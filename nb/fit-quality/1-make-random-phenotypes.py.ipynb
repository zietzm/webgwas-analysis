{
 "cells": [
  {
   "cell_type": "code",
   "execution_count": 1,
   "id": "ecb87288-f321-43a7-b7d1-6188971412a0",
   "metadata": {},
   "outputs": [],
   "source": [
    "import polars as pl\n",
    "import pandas as pd\n",
    "import numpy as np\n",
    "from sqlmodel import Session, select, create_engine\n",
    "import sklearn.metrics\n",
    "import seaborn as sns\n",
    "\n",
    "from webgwas.phenotype_definitions import Field\n",
    "from webgwas_backend.models import Cohort\n",
    "import webgwas.phenotype_definitions\n",
    "import webgwas.regression"
   ]
  },
  {
   "cell_type": "code",
   "execution_count": 2,
   "id": "374a5bbd-56d2-4bab-b056-eef36f4a61c7",
   "metadata": {},
   "outputs": [
    {
     "data": {
      "text/html": [
       "<div><style>\n",
       ".dataframe > thead > tr,\n",
       ".dataframe > tbody > tr {\n",
       "  text-align: right;\n",
       "  white-space: pre-wrap;\n",
       "}\n",
       "</style>\n",
       "<small>shape: (2, 1_238)</small><table border=\"1\" class=\"dataframe\"><thead><tr><th>A01</th><th>A02</th><th>A03</th><th>A04</th><th>A05</th><th>A06</th><th>A07</th><th>A08</th><th>A09</th><th>A15</th><th>A16</th><th>A18</th><th>A31</th><th>A36</th><th>A37</th><th>A38</th><th>A40</th><th>A41</th><th>A42</th><th>A46</th><th>A48</th><th>A49</th><th>A54</th><th>A60</th><th>A63</th><th>A69</th><th>A80</th><th>A87</th><th>B00</th><th>B01</th><th>B02</th><th>B05</th><th>B06</th><th>B07</th><th>B08</th><th>B15</th><th>B16</th><th>&hellip;</th><th>Z50</th><th>Z51</th><th>Z52</th><th>Z53</th><th>Z54</th><th>Z56</th><th>Z57</th><th>Z58</th><th>Z59</th><th>Z60</th><th>Z63</th><th>Z71</th><th>Z72</th><th>Z73</th><th>Z74</th><th>Z75</th><th>Z76</th><th>Z80</th><th>Z81</th><th>Z82</th><th>Z83</th><th>Z84</th><th>Z85</th><th>Z86</th><th>Z87</th><th>Z88</th><th>Z89</th><th>Z90</th><th>Z91</th><th>Z92</th><th>Z93</th><th>Z94</th><th>Z95</th><th>Z96</th><th>Z97</th><th>Z98</th><th>Z99</th></tr><tr><td>f64</td><td>f64</td><td>f64</td><td>f64</td><td>f64</td><td>f64</td><td>f64</td><td>f64</td><td>f64</td><td>f64</td><td>f64</td><td>f64</td><td>f64</td><td>f64</td><td>f64</td><td>f64</td><td>f64</td><td>f64</td><td>f64</td><td>f64</td><td>f64</td><td>f64</td><td>f64</td><td>f64</td><td>f64</td><td>f64</td><td>f64</td><td>f64</td><td>f64</td><td>f64</td><td>f64</td><td>f64</td><td>f64</td><td>f64</td><td>f64</td><td>f64</td><td>f64</td><td>&hellip;</td><td>f64</td><td>f64</td><td>f64</td><td>f64</td><td>f64</td><td>f64</td><td>f64</td><td>f64</td><td>f64</td><td>f64</td><td>f64</td><td>f64</td><td>f64</td><td>f64</td><td>f64</td><td>f64</td><td>f64</td><td>f64</td><td>f64</td><td>f64</td><td>f64</td><td>f64</td><td>f64</td><td>f64</td><td>f64</td><td>f64</td><td>f64</td><td>f64</td><td>f64</td><td>f64</td><td>f64</td><td>f64</td><td>f64</td><td>f64</td><td>f64</td><td>f64</td><td>f64</td></tr></thead><tbody><tr><td>2.0</td><td>2.0</td><td>2.0</td><td>2.0</td><td>2.0</td><td>2.0</td><td>2.0</td><td>2.0</td><td>2.2</td><td>2.0</td><td>2.0</td><td>2.0</td><td>2.0</td><td>2.0</td><td>2.0</td><td>2.0</td><td>2.0</td><td>2.0</td><td>2.0</td><td>2.0</td><td>2.0</td><td>2.0</td><td>2.0</td><td>2.0</td><td>2.0</td><td>2.0</td><td>2.0</td><td>2.0</td><td>2.0</td><td>2.0</td><td>2.0</td><td>2.0</td><td>2.0</td><td>2.0</td><td>2.0</td><td>2.0</td><td>2.0</td><td>&hellip;</td><td>2.0</td><td>2.1</td><td>2.0</td><td>2.1</td><td>2.0</td><td>2.0</td><td>2.1</td><td>2.0</td><td>2.0</td><td>2.0</td><td>2.0</td><td>2.0</td><td>2.4</td><td>2.0</td><td>2.0</td><td>2.0</td><td>2.0</td><td>2.0</td><td>2.0</td><td>2.0</td><td>2.0</td><td>2.0</td><td>2.0</td><td>2.1</td><td>2.0</td><td>2.3</td><td>2.0</td><td>2.0</td><td>2.0</td><td>2.0</td><td>2.0</td><td>2.0</td><td>2.0</td><td>2.1</td><td>2.0</td><td>2.0</td><td>2.0</td></tr><tr><td>2.0</td><td>2.0</td><td>2.0</td><td>2.0</td><td>2.0</td><td>2.0</td><td>2.0</td><td>2.0</td><td>2.0</td><td>2.0</td><td>2.0</td><td>2.0</td><td>2.0</td><td>2.0</td><td>2.0</td><td>2.0</td><td>2.0</td><td>2.0</td><td>2.0</td><td>2.0</td><td>2.0</td><td>2.0</td><td>2.0</td><td>2.0</td><td>2.0</td><td>2.0</td><td>2.0</td><td>2.0</td><td>2.0</td><td>2.0</td><td>2.0</td><td>2.0</td><td>2.0</td><td>2.1</td><td>2.0</td><td>2.0</td><td>2.0</td><td>&hellip;</td><td>2.0</td><td>2.1</td><td>2.0</td><td>2.0</td><td>2.0</td><td>2.0</td><td>2.0</td><td>2.0</td><td>2.0</td><td>2.0</td><td>2.0</td><td>2.0</td><td>2.0</td><td>2.0</td><td>2.0</td><td>2.0</td><td>2.0</td><td>2.0</td><td>2.0</td><td>2.0</td><td>2.0</td><td>2.0</td><td>2.0</td><td>2.3</td><td>2.0</td><td>2.0</td><td>2.0</td><td>2.0</td><td>2.0</td><td>2.0</td><td>2.0</td><td>2.0</td><td>2.0</td><td>2.2</td><td>2.0</td><td>2.0</td><td>2.0</td></tr></tbody></table></div>"
      ],
      "text/plain": [
       "shape: (2, 1_238)\n",
       "┌─────┬─────┬─────┬─────┬───┬─────┬─────┬─────┬─────┐\n",
       "│ A01 ┆ A02 ┆ A03 ┆ A04 ┆ … ┆ Z96 ┆ Z97 ┆ Z98 ┆ Z99 │\n",
       "│ --- ┆ --- ┆ --- ┆ --- ┆   ┆ --- ┆ --- ┆ --- ┆ --- │\n",
       "│ f64 ┆ f64 ┆ f64 ┆ f64 ┆   ┆ f64 ┆ f64 ┆ f64 ┆ f64 │\n",
       "╞═════╪═════╪═════╪═════╪═══╪═════╪═════╪═════╪═════╡\n",
       "│ 2.0 ┆ 2.0 ┆ 2.0 ┆ 2.0 ┆ … ┆ 2.1 ┆ 2.0 ┆ 2.0 ┆ 2.0 │\n",
       "│ 2.0 ┆ 2.0 ┆ 2.0 ┆ 2.0 ┆ … ┆ 2.2 ┆ 2.0 ┆ 2.0 ┆ 2.0 │\n",
       "└─────┴─────┴─────┴─────┴───┴─────┴─────┴─────┴─────┘"
      ]
     },
     "execution_count": 2,
     "metadata": {},
     "output_type": "execute_result"
    }
   ],
   "source": [
    "anon_pheno_df = pl.read_csv(\"../../../webgwas-data/ukb_wb_100k_reduced_anon/phenotype_data.csv.zst\")\n",
    "pheno_df = pl.read_csv(\"../../../webgwas-data/ukb_wb_100k_full/phenotype_data.csv\", separator=\"\\t\")\n",
    "assert pheno_df.drop(\"FID\", \"IID\").shape == anon_pheno_df.shape\n",
    "\n",
    "anon_features_df = anon_pheno_df.select(pl.all().sub(2)).to_pandas().assign(const=1.0)\n",
    "features_df = pheno_df.select(pl.all().exclude([\"FID\", \"IID\"]).sub(2).name.map(lambda x: x.lstrip(\"b_\"))).to_pandas().assign(const=1.0)\n",
    "\n",
    "anon_pheno_df.head(2)"
   ]
  },
  {
   "cell_type": "code",
   "execution_count": 3,
   "id": "d7cd92c3-94d9-4f34-857a-022eb34d021f",
   "metadata": {},
   "outputs": [],
   "source": [
    "engine = create_engine(\"sqlite:////Users/zietzm/projects/webgwas-backend/backend.db\")\n",
    "\n",
    "with Session(engine) as sess:\n",
    "    ex = sess.execute(select(Cohort).order_by(Cohort.id)).fetchall()\n",
    "    cohort = ex[0][0]\n",
    "    features = [\n",
    "        Field.model_validate(x, from_attributes=True)\n",
    "        for x in cohort.features\n",
    "    ]\n",
    "\n",
    "knowledge_base = webgwas.phenotype_definitions.KnowledgeBase.default(features)\n",
    "NOT = webgwas.phenotype_definitions.OperatorType.NOT.value\n",
    "AND = webgwas.phenotype_definitions.OperatorType.AND.value"
   ]
  },
  {
   "cell_type": "code",
   "execution_count": 4,
   "id": "30b1b54d-a6c7-4563-8592-bbc47749a003",
   "metadata": {},
   "outputs": [],
   "source": [
    "N_random_phenotypes = 1000\n",
    "N_features_per_phenotype = 3\n",
    "\n",
    "random_phenotype_definitions = list()\n",
    "\n",
    "np.random.seed(0)\n",
    "while len(random_phenotype_definitions) < N_random_phenotypes:\n",
    "    selected_features = np.random.choice(features, size=N_features_per_phenotype, replace=False).tolist()\n",
    "    negations = np.random.binomial(1, 0.5, size=N_features_per_phenotype)\n",
    "    phenotype_definition = list()\n",
    "    for i, (feature, negated) in enumerate(zip(selected_features, negations)):\n",
    "        phenotype_definition.append(feature)\n",
    "        if negated:\n",
    "            phenotype_definition.append(NOT)\n",
    "        if i != 0:\n",
    "            phenotype_definition.append(AND)\n",
    "\n",
    "    phenotype_definition = webgwas.phenotype_definitions.validate_nodes(phenotype_definition, knowledge_base)\n",
    "    webgwas.phenotype_definitions.type_check_nodes(phenotype_definition)\n",
    "\n",
    "    phenotype_values = webgwas.phenotype_definitions.apply_definition_pandas(phenotype_definition, features_df)\n",
    "    if phenotype_values.drop_duplicates().shape[0] == 1:\n",
    "        continue\n",
    "        \n",
    "    random_phenotype_definitions.append(phenotype_definition)"
   ]
  },
  {
   "cell_type": "code",
   "execution_count": 5,
   "id": "844e7512-ce5e-44e1-95c7-e581ab1e3524",
   "metadata": {
    "scrolled": true
   },
   "outputs": [],
   "source": [
    "# Actually applying the definitions to real phenotypes\n",
    "random_phenotypes_df = pd.DataFrame({\n",
    "    f\"R{i+1}\": webgwas.phenotype_definitions.apply_definition_pandas(defn, features_df)\n",
    "    for i, defn in enumerate(random_phenotype_definitions)\n",
    "})\n",
    "\n",
    "# Producing the phenotypes that are equivalent to what indirect GWAS would produce\n",
    "anon_random_phenotypes_df = pd.DataFrame({\n",
    "    f\"R{i+1}\": webgwas.phenotype_definitions.apply_definition_pandas(defn, anon_features_df)\n",
    "    for i, defn in enumerate(random_phenotype_definitions)\n",
    "})\n",
    "anon_left_inverse_df = webgwas.regression.compute_left_inverse(anon_features_df)\n",
    "anon_betas_df = anon_left_inverse_df @ anon_random_phenotypes_df\n",
    "anon_random_phenotypes_preds_df = anon_features_df @ anon_betas_df\n",
    "predicted_phenotypes_df = features_df @ anon_betas_df"
   ]
  },
  {
   "cell_type": "code",
   "execution_count": 6,
   "id": "61aa47d4-4324-4fa7-998c-ae346ff0c70d",
   "metadata": {},
   "outputs": [],
   "source": [
    "anon_random_phenotypes_df.to_parquet(\"data/anon_random_phenotypes.parquet\")\n",
    "anon_random_phenotypes_preds_df.to_parquet(\"data/anon_random_phenotypes_pred.parquet\")"
   ]
  },
  {
   "cell_type": "code",
   "execution_count": 7,
   "id": "91d143cc-879d-42c7-bd99-071688c5fb23",
   "metadata": {},
   "outputs": [],
   "source": [
    "gwas_pheno_df = (\n",
    "    pd.concat([\n",
    "        pheno_df.select(\"FID\", \"IID\").to_pandas(),\n",
    "        random_phenotypes_df,\n",
    "        predicted_phenotypes_df.rename(columns=lambda name: f\"P{name}\")\n",
    "    ], axis=1)\n",
    "    .pipe(pl.DataFrame)\n",
    "    .with_columns(pl.all().exclude(\"FID\", \"IID\").add(2).cast(pl.Float32))\n",
    ")\n",
    "\n",
    "assert gwas_pheno_df.drop([\"FID\", \"IID\"]).select(pl.all().n_unique()).transpose().select(pl.col(\"column_0\").min()).item() > 1\n",
    "\n",
    "gwas_pheno_df.write_csv(\"data/random_phenotypes.tsv\", separator=\"\\t\")"
   ]
  }
 ],
 "metadata": {
  "kernelspec": {
   "display_name": "Python 3 (ipykernel)",
   "language": "python",
   "name": "python3"
  },
  "language_info": {
   "codemirror_mode": {
    "name": "ipython",
    "version": 3
   },
   "file_extension": ".py",
   "mimetype": "text/x-python",
   "name": "python",
   "nbconvert_exporter": "python",
   "pygments_lexer": "ipython3",
   "version": "3.11.9"
  }
 },
 "nbformat": 4,
 "nbformat_minor": 5
}
