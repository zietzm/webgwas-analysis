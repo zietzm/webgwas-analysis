{
 "cells": [
  {
   "cell_type": "code",
   "execution_count": 1,
   "id": "716b4266-a6c0-452e-b4bb-91947d657de8",
   "metadata": {},
   "outputs": [],
   "source": [
    "# devtools::install(\"../../vendor/PhenotypeSimulator/\")"
   ]
  },
  {
   "cell_type": "code",
   "execution_count": 1,
   "id": "b02ef4e0-3e1e-46f5-a5fd-e616ed35adb3",
   "metadata": {},
   "outputs": [
    {
     "name": "stderr",
     "output_type": "stream",
     "text": [
      "Set seed: 219453\n",
      "\n",
      "The total noise variance (noiseVar) is: 0.5\n",
      "\n",
      "The noise model is: noiseFixedAndBgAndCorrelated\n",
      "\n",
      "Proportion of non-genetic covariate variance (delta): 0.3\n",
      "\n",
      "Proportion of variance of shared non-genetic covariate effects (gamma): 0.8\n",
      "\n",
      "Proportion of non-genetic covariates to have a trait-independent effect (pIndependentConfounders ): 0.4\n",
      "\n",
      "Proportion of traits influenced by independent non-genetic covariate effects (pTraitIndependentConfounders): 0.2\n",
      "\n",
      "Proportion of variance of correlated noise effects (rho): 0.1\n",
      "\n",
      "Proportion of observational noise variance (phi): 0.6\n",
      "\n",
      "Variance of shared observational noise effect (alpha): 0.8\n",
      "\n",
      "\n",
      "\n",
      "\n",
      "The total genetic variance (genVar) is: 0.5\n",
      "\n",
      "The genetic model is: geneticFixedAndBg\n",
      "\n",
      "Proportion of variance of genetic variant effects (h2s): 0.5\n",
      "\n",
      "Proportion of variance of shared genetic variant effects (theta): 0.8\n",
      "\n",
      "Proportion of genetic variant effects to have a trait-independent fixed effect (pIndependentGenetic): 0.4\n",
      "\n",
      "Proportion of traits influenced by independent genetic variant effects (pTraitIndependentGenetic): 0.2\n",
      "\n",
      "Proportion of variance of infinitesimal genetic effects (h2bg): 0.5\n",
      "\n",
      "Proportion of variance of shared infinitesimal genetic effects (eta): 0.8\n",
      "\n",
      "Proportion of non-linear phenotype transformation (proportionNonlinear): 0\n",
      "\n",
      "\n",
      "\n",
      "\n",
      "Simulate genetic effects (genetic model: geneticFixedAndBg)\n",
      "\n",
      "Simulate 10000 SNPs...\n",
      "\n",
      "Simulate genetic variant effects\n",
      "\n",
      "Out of 10 total phenotypes, 10 traits will be affected by genetic variant effects\n",
      "\n",
      "Out of these affected traits (10), 2 trait(s) will have independent genetic variant effects\n",
      "\n",
      "Standardising the 10000 SNPs provided\n",
      "\n",
      "Estimating kinship from 10000 SNPs provided\n",
      "\n",
      "Normalising kinship\n",
      "\n",
      "Simulate infinitesimal genetic effects\n",
      "\n",
      "Simulate noise terms (noise model: noiseFixedAndBgAndCorrelated)\n",
      "\n",
      "Simulate correlated background effects\n",
      "\n",
      "Simulate observational noise effects\n",
      "\n",
      "Simulate confounder effects\n",
      "\n",
      "Out of 10 total phenotypes, 10 trait(s) will be affected by the covariate effect\n",
      "\n",
      "Out of these affected traits (10), 2 trait(s) will have independent covariate effects\n",
      "\n",
      "Construct final simulated phenotype\n",
      "\n"
     ]
    }
   ],
   "source": [
    "phenotype <- PhenotypeSimulator::runSimulation(\n",
    "    N = 10000,\n",
    "    P = 10, \n",
    "    tNrSNP = 10000,\n",
    "    cNrSNP = 5000, \n",
    "    genVar = 0.5, \n",
    "    h2s = 0.5, \n",
    "    phi = 0.6, \n",
    "    delta = 0.3, \n",
    "    NrFixedEffects = 1, \n",
    "    NrConfounders = 5,\n",
    "    pcorr = 0.8, \n",
    "    verbose = TRUE\n",
    ")"
   ]
  },
  {
   "cell_type": "code",
   "execution_count": 2,
   "id": "76a1b6a7-5f33-4092-8cc6-856754cbe7f8",
   "metadata": {},
   "outputs": [
    {
     "name": "stderr",
     "output_type": "stream",
     "text": [
      "Save simulation results\n",
      "\n",
      "Save phenotype to data/simulated-phenotypes/Y...\n",
      "\n",
      "Save infinitesimal genetic component to data/simulated-phenotypes/Y_genBg...\n",
      "\n",
      "Save kinship to data/simulated-phenotypes/\n",
      "\n",
      "Save genetic variant effects to data/simulated-phenotypes/Y_genFixed...\n",
      "\n",
      "Save genetic variants and their effect sizes to data/simulated-phenotypes/SNP...\n",
      "\n"
     ]
    },
    {
     "name": "stdout",
     "output_type": "stream",
     "text": [
      "Writing FAM file to data/simulated-phenotypes//Genotypes_genFixed.fam \n",
      "Writing extended MAP file to data/simulated-phenotypes//Genotypes_genFixed.bim \n",
      "Writing BED file to data/simulated-phenotypes//Genotypes_genFixed.bed (SNP-major mode)\n"
     ]
    },
    {
     "name": "stderr",
     "output_type": "stream",
     "text": [
      "Save genotypes to data/simulated-phenotypes/\n",
      "\n",
      "Save correlated background to data/simulated-phenotypes/Y_correlatedBg...\n",
      "\n",
      "Save observational noise to data/simulated-phenotypes/Y_noiseBg...\n",
      "\n",
      "Save confounder effects to data/simulated-phenotypes/Y_noiseFixed...\n",
      "\n",
      "Save confounders and their effect sizes to data/simulated-phenotypes/Covs...\n",
      "\n",
      "Save phenotypes in PLINK format\n",
      "\n",
      "Save genotypes in PLINK format\n",
      "\n"
     ]
    },
    {
     "name": "stdout",
     "output_type": "stream",
     "text": [
      "Writing FAM file to data/simulated-phenotypes//Genotypes.fam \n",
      "Writing extended MAP file to data/simulated-phenotypes//Genotypes.bim \n",
      "Writing BED file to data/simulated-phenotypes//Genotypes.bed (SNP-major mode)\n"
     ]
    },
    {
     "name": "stderr",
     "output_type": "stream",
     "text": [
      "Save covariates in PLINK format\n",
      "\n",
      "PLINK format does not support a kinship, supplied  kinship ignored\n",
      "\n"
     ]
    },
    {
     "data": {
      "text/html": [
       "'data/simulated-phenotypes/'"
      ],
      "text/latex": [
       "'data/simulated-phenotypes/'"
      ],
      "text/markdown": [
       "'data/simulated-phenotypes/'"
      ],
      "text/plain": [
       "[1] \"data/simulated-phenotypes/\""
      ]
     },
     "metadata": {},
     "output_type": "display_data"
    }
   ],
   "source": [
    "PhenotypeSimulator::savePheno(phenotype, \"data/simulated-phenotypes\", format = \"plink\")"
   ]
  }
 ],
 "metadata": {
  "kernelspec": {
   "display_name": "R",
   "language": "R",
   "name": "ir"
  },
  "language_info": {
   "codemirror_mode": "r",
   "file_extension": ".r",
   "mimetype": "text/x-r-source",
   "name": "R",
   "pygments_lexer": "r",
   "version": "4.4.1"
  }
 },
 "nbformat": 4,
 "nbformat_minor": 5
}
