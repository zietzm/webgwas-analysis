{
 "cells": [
  {
   "cell_type": "code",
   "execution_count": 41,
   "id": "5992c318-1e26-46c4-bc5d-7f7dedfe6b6d",
   "metadata": {},
   "outputs": [],
   "source": [
    "import pathlib\n",
    "import shlex\n",
    "import subprocess\n",
    "from string import Template\n",
    "\n",
    "import matplotlib.pyplot as plt\n",
    "import numpy as np\n",
    "import pandas as pd\n",
    "import polars as pl\n",
    "import seaborn as sns\n",
    "import tqdm.notebook as tqdm"
   ]
  },
  {
   "cell_type": "code",
   "execution_count": 2,
   "id": "87d11c32-a0d9-4443-8e04-5cf4f8204b6c",
   "metadata": {},
   "outputs": [],
   "source": [
    "n_features = 10\n",
    "n_projections = 10"
   ]
  },
  {
   "cell_type": "markdown",
   "id": "e3396017-bbdc-4760-9d0e-bf7e2c00c9ae",
   "metadata": {},
   "source": [
    "# SAIGE\n",
    "\n",
    "# Features"
   ]
  },
  {
   "cell_type": "code",
   "execution_count": 3,
   "id": "fcda23e4-9352-42b7-a3c0-ebf9c9d00eb9",
   "metadata": {},
   "outputs": [
    {
     "data": {
      "application/vnd.jupyter.widget-view+json": {
       "model_id": "09dfaa4b750f41ad9cb61c0249dff5b3",
       "version_major": 2,
       "version_minor": 0
      },
      "text/plain": [
       "  0%|          | 0/10 [00:00<?, ?it/s]"
      ]
     },
     "metadata": {},
     "output_type": "display_data"
    }
   ],
   "source": [
    "command_template = Template(\"\"\"\n",
    "docker run \\\n",
    "    -v ./data:/data -w / \\\n",
    "    wzhou88/saige:1.3.0 step1_fitNULLGLMM.R \\\n",
    "    --plinkFile=data/simulated-phenotypes/Genotypes \\\n",
    "    --useSparseGRMtoFitNULL=FALSE \\\n",
    "    --covarColList=sharedConfounder_norm1,sharedConfounder_norm2,sharedConfounder_norm3,independentConfounder_norm1,independentConfounder_norm2 \\\n",
    "    --sampleIDColinphenoFile=IID \\\n",
    "    --invNormalize=FALSE \\\n",
    "    --traitType=quantitative \\\n",
    "    --nThreads=16 \\\n",
    "    --IsOverwriteVarianceRatioFile=TRUE \\\n",
    "    --phenoCol=$PHENOTYPE \\\n",
    "    --phenoFile=data/simulated-phenotypes/Ysim_saige.txt \\\n",
    "    --outputPrefix=data/gwas/saige/features-unnormed/$PHENOTYPE\n",
    "\"\"\")\n",
    "\n",
    "for feature_idx in tqdm.tnrange(1, n_features + 1):\n",
    "    command = command_template.substitute(PHENOTYPE=f\"feature_{feature_idx:02}\")\n",
    "    result = subprocess.run(shlex.split(command), capture_output=True)\n",
    "    result.check_returncode()"
   ]
  },
  {
   "cell_type": "code",
   "execution_count": 4,
   "id": "d929403c-9b26-4760-9cf8-e1c073faa70d",
   "metadata": {},
   "outputs": [
    {
     "data": {
      "application/vnd.jupyter.widget-view+json": {
       "model_id": "14f7e6c13ae34d71bbc162fd65272572",
       "version_major": 2,
       "version_minor": 0
      },
      "text/plain": [
       "  0%|          | 0/10 [00:00<?, ?it/s]"
      ]
     },
     "metadata": {},
     "output_type": "display_data"
    }
   ],
   "source": [
    "command_template = Template(\"\"\"\n",
    "docker run \\\n",
    "    -v ./data:/data -w / \\\n",
    "    wzhou88/saige:1.3.0 step2_SPAtests.R \\\n",
    "    --bedFile=data/simulated-phenotypes/Genotypes.bed \\\n",
    "    --bimFile=data/simulated-phenotypes/Genotypes.bim \\\n",
    "    --famFile=data/simulated-phenotypes/Genotypes.fam \\\n",
    "    --LOCO=FALSE \\\n",
    "    --GMMATmodelFile=data/gwas/saige/features-unnormed/$PHENOTYPE.rda \\\n",
    "    --varianceRatioFile=data/gwas/saige/features-unnormed/$PHENOTYPE.varianceRatio.txt \\\n",
    "    --SAIGEOutputFile=data/gwas/saige/features-unnormed/$PHENOTYPE.txt\n",
    "\"\"\")\n",
    "\n",
    "for feature_idx in tqdm.tnrange(1, n_features + 1):\n",
    "    command = command_template.substitute(PHENOTYPE=f\"feature_{feature_idx:02}\")\n",
    "    result = subprocess.run(shlex.split(command), capture_output=True)\n",
    "    try:\n",
    "        result.check_returncode()\n",
    "    except Exception as e:\n",
    "        print(result.stderr.decode())"
   ]
  },
  {
   "cell_type": "markdown",
   "id": "376de6ee-777a-4616-918d-b84486cf6145",
   "metadata": {},
   "source": [
    "## Projections"
   ]
  },
  {
   "cell_type": "code",
   "execution_count": 6,
   "id": "520979db-633e-4da8-950c-a4de8b923b1d",
   "metadata": {},
   "outputs": [
    {
     "data": {
      "application/vnd.jupyter.widget-view+json": {
       "model_id": "8cecb5da41554749831132d6ccaaccec",
       "version_major": 2,
       "version_minor": 0
      },
      "text/plain": [
       "  0%|          | 0/10 [00:00<?, ?it/s]"
      ]
     },
     "metadata": {},
     "output_type": "display_data"
    },
    {
     "name": "stdout",
     "output_type": "stream",
     "text": [
      "WARNING: The requested image's platform (linux/amd64) does not match the detected host platform (linux/arm64/v8) and no specific platform was requested\n",
      "Loading required package: optparse\n",
      "Error in glmmkin.ai_PCG_Rcpp_Quantitative(bedFile, bimFile, famFile, Xorig,  : \n",
      "  ERROR! The first variance component parameter estimate is 0\n",
      "Calls: fitNULLGLMM -> system.time -> glmmkin.ai_PCG_Rcpp_Quantitative\n",
      "Timing stopped at: 13.91 0.139 1.974\n",
      "Execution halted\n",
      "\n"
     ]
    }
   ],
   "source": [
    "command_template = Template(\"\"\"\n",
    "docker run \\\n",
    "    -v ./data:/data -w / \\\n",
    "    wzhou88/saige:1.3.0 step1_fitNULLGLMM.R \\\n",
    "    --plinkFile=data/simulated-phenotypes/Genotypes \\\n",
    "    --useSparseGRMtoFitNULL=FALSE \\\n",
    "    --covarColList=sharedConfounder_norm1,sharedConfounder_norm2,sharedConfounder_norm3,independentConfounder_norm1,independentConfounder_norm2 \\\n",
    "    --sampleIDColinphenoFile=IID \\\n",
    "    --invNormalize=TRUE \\\n",
    "    --traitType=quantitative \\\n",
    "    --nThreads=16 \\\n",
    "    --IsOverwriteVarianceRatioFile=TRUE \\\n",
    "    --phenoCol=$PHENOTYPE \\\n",
    "    --phenoFile=data/projected-phenotypes/phenotypes_saige.tsv \\\n",
    "    --outputPrefix=data/gwas/saige/projections-unnormed/$PHENOTYPE\n",
    "\"\"\")\n",
    "\n",
    "for projection_idx in tqdm.tnrange(1, n_projections + 1):\n",
    "    command = command_template.substitute(PHENOTYPE=f\"projection_{projection_idx:03}\")\n",
    "    result = subprocess.run(shlex.split(command), capture_output=True)\n",
    "    try:\n",
    "        result.check_returncode()\n",
    "    except Exception as e:\n",
    "        print(result.stderr.decode())"
   ]
  },
  {
   "cell_type": "code",
   "execution_count": 7,
   "id": "fe8692f9-0ec3-4d8b-9f55-e8835685b638",
   "metadata": {},
   "outputs": [
    {
     "data": {
      "application/vnd.jupyter.widget-view+json": {
       "model_id": "73f111cc820e46d19166ffb574c54c1a",
       "version_major": 2,
       "version_minor": 0
      },
      "text/plain": [
       "  0%|          | 0/10 [00:00<?, ?it/s]"
      ]
     },
     "metadata": {},
     "output_type": "display_data"
    },
    {
     "name": "stdout",
     "output_type": "stream",
     "text": [
      "WARNING: The requested image's platform (linux/amd64) does not match the detected host platform (linux/arm64/v8) and no specific platform was requested\n",
      "Loading required package: RhpcBLASctl\n",
      "Error in load(GMMATmodelFile) : empty (zero-byte) input file\n",
      "Calls: SPAGMMATtest -> ReadModel -> load\n",
      "Execution halted\n",
      "\n"
     ]
    }
   ],
   "source": [
    "command_template = Template(\"\"\"\n",
    "docker run \\\n",
    "    -v ./data:/data -w / \\\n",
    "    wzhou88/saige:1.3.0 step2_SPAtests.R \\\n",
    "    --bedFile=data/simulated-phenotypes/Genotypes.bed \\\n",
    "    --bimFile=data/simulated-phenotypes/Genotypes.bim \\\n",
    "    --famFile=data/simulated-phenotypes/Genotypes.fam \\\n",
    "    --LOCO=FALSE \\\n",
    "    --GMMATmodelFile=data/gwas/saige/projections-unnormed/$PHENOTYPE.rda \\\n",
    "    --varianceRatioFile=data/gwas/saige/projections-unnormed/$PHENOTYPE.varianceRatio.txt \\\n",
    "    --SAIGEOutputFile=data/gwas/saige/projections-unnormed/$PHENOTYPE.txt\n",
    "\"\"\")\n",
    "\n",
    "for projection_idx in tqdm.tnrange(1, n_projections + 1):\n",
    "    command = command_template.substitute(PHENOTYPE=f\"projection_{projection_idx:03}\")\n",
    "    result = subprocess.run(shlex.split(command), capture_output=True)\n",
    "    try:\n",
    "        result.check_returncode()\n",
    "    except Exception as e:\n",
    "        print(result.stderr.decode())"
   ]
  },
  {
   "cell_type": "markdown",
   "id": "cfe4daae-c7f0-413b-a37f-4d3b99e1f728",
   "metadata": {},
   "source": [
    "# Indirect GWAS"
   ]
  },
  {
   "cell_type": "code",
   "execution_count": 37,
   "id": "4a6655c1-5b52-4341-aaf1-1ae659ab7471",
   "metadata": {},
   "outputs": [
    {
     "data": {
      "text/html": [
       "<div><style>\n",
       ".dataframe > thead > tr,\n",
       ".dataframe > tbody > tr {\n",
       "  text-align: right;\n",
       "  white-space: pre-wrap;\n",
       "}\n",
       "</style>\n",
       "<small>shape: (2, 4)</small><table border=\"1\" class=\"dataframe\"><thead><tr><th>projection</th><th>snp_id</th><th>beta</th><th>se</th></tr><tr><td>str</td><td>str</td><td>f64</td><td>f64</td></tr></thead><tbody><tr><td>&quot;projection_001&quot;</td><td>&quot;SNP_1&quot;</td><td>0.001239</td><td>0.0120804</td></tr><tr><td>&quot;projection_001&quot;</td><td>&quot;SNP_10&quot;</td><td>0.008536</td><td>0.0120384</td></tr></tbody></table></div>"
      ],
      "text/plain": [
       "shape: (2, 4)\n",
       "┌────────────────┬────────┬──────────┬───────────┐\n",
       "│ projection     ┆ snp_id ┆ beta     ┆ se        │\n",
       "│ ---            ┆ ---    ┆ ---      ┆ ---       │\n",
       "│ str            ┆ str    ┆ f64      ┆ f64       │\n",
       "╞════════════════╪════════╪══════════╪═══════════╡\n",
       "│ projection_001 ┆ SNP_1  ┆ 0.001239 ┆ 0.0120804 │\n",
       "│ projection_001 ┆ SNP_10 ┆ 0.008536 ┆ 0.0120384 │\n",
       "└────────────────┴────────┴──────────┴───────────┘"
      ]
     },
     "execution_count": 37,
     "metadata": {},
     "output_type": "execute_result"
    }
   ],
   "source": [
    "direct_gwas_df = (\n",
    "    pl.scan_csv(\"data/gwas/saige/projections-unnormed/projection_[01][0123456789][0123456789].txt\", separator=\"\\t\", glob=True, include_file_paths=\"projection\")\n",
    "    .select(\n",
    "        pl.col(\"projection\")\n",
    "            .str.strip_prefix(\"data/gwas/saige/projections-unnormed/\")\n",
    "            .str.strip_suffix(\".txt\"),\n",
    "        pl.col(\"MarkerID\").alias(\"snp_id\"),\n",
    "        pl.col(\"BETA\", \"SE\").name.map(lambda x: x.lower())\n",
    "    )\n",
    "    .collect()\n",
    ")\n",
    "direct_gwas_df.head(2)"
   ]
  },
  {
   "cell_type": "code",
   "execution_count": 9,
   "id": "922e256b-ae8f-41c8-98db-3a1e13a02ec5",
   "metadata": {},
   "outputs": [
    {
     "data": {
      "text/html": [
       "<div>\n",
       "<style scoped>\n",
       "    .dataframe tbody tr th:only-of-type {\n",
       "        vertical-align: middle;\n",
       "    }\n",
       "\n",
       "    .dataframe tbody tr th {\n",
       "        vertical-align: top;\n",
       "    }\n",
       "\n",
       "    .dataframe thead th {\n",
       "        text-align: right;\n",
       "    }\n",
       "</style>\n",
       "<table border=\"1\" class=\"dataframe\">\n",
       "  <thead>\n",
       "    <tr style=\"text-align: right;\">\n",
       "      <th></th>\n",
       "      <th>projection_001</th>\n",
       "      <th>projection_002</th>\n",
       "      <th>projection_003</th>\n",
       "      <th>projection_004</th>\n",
       "      <th>projection_005</th>\n",
       "      <th>projection_006</th>\n",
       "      <th>projection_007</th>\n",
       "      <th>projection_008</th>\n",
       "      <th>projection_009</th>\n",
       "      <th>projection_010</th>\n",
       "    </tr>\n",
       "    <tr>\n",
       "      <th>index</th>\n",
       "      <th></th>\n",
       "      <th></th>\n",
       "      <th></th>\n",
       "      <th></th>\n",
       "      <th></th>\n",
       "      <th></th>\n",
       "      <th></th>\n",
       "      <th></th>\n",
       "      <th></th>\n",
       "      <th></th>\n",
       "    </tr>\n",
       "  </thead>\n",
       "  <tbody>\n",
       "    <tr>\n",
       "      <th>feature_01</th>\n",
       "      <td>0.494257</td>\n",
       "      <td>0.149846</td>\n",
       "      <td>0.416713</td>\n",
       "      <td>0.465716</td>\n",
       "      <td>0.499354</td>\n",
       "      <td>-0.403010</td>\n",
       "      <td>0.566804</td>\n",
       "      <td>-0.059001</td>\n",
       "      <td>-0.035533</td>\n",
       "      <td>0.165651</td>\n",
       "    </tr>\n",
       "    <tr>\n",
       "      <th>feature_02</th>\n",
       "      <td>0.040359</td>\n",
       "      <td>0.544579</td>\n",
       "      <td>0.324024</td>\n",
       "      <td>0.025287</td>\n",
       "      <td>0.118682</td>\n",
       "      <td>0.137601</td>\n",
       "      <td>0.891338</td>\n",
       "      <td>-0.079973</td>\n",
       "      <td>0.107773</td>\n",
       "      <td>-0.344575</td>\n",
       "    </tr>\n",
       "  </tbody>\n",
       "</table>\n",
       "</div>"
      ],
      "text/plain": [
       "            projection_001  projection_002  projection_003  projection_004  \\\n",
       "index                                                                        \n",
       "feature_01        0.494257        0.149846        0.416713        0.465716   \n",
       "feature_02        0.040359        0.544579        0.324024        0.025287   \n",
       "\n",
       "            projection_005  projection_006  projection_007  projection_008  \\\n",
       "index                                                                        \n",
       "feature_01        0.499354       -0.403010        0.566804       -0.059001   \n",
       "feature_02        0.118682        0.137601        0.891338       -0.079973   \n",
       "\n",
       "            projection_009  projection_010  \n",
       "index                                       \n",
       "feature_01       -0.035533        0.165651  \n",
       "feature_02        0.107773       -0.344575  "
      ]
     },
     "execution_count": 9,
     "metadata": {},
     "output_type": "execute_result"
    }
   ],
   "source": [
    "projection_df = (\n",
    "    pl.read_csv(\"data/projected-phenotypes/projection_matrix.tsv\", separator=\"\\t\")\n",
    "    .to_pandas()\n",
    "    .set_index(\"index\")\n",
    ")\n",
    "projection_df.head(2)"
   ]
  },
  {
   "cell_type": "code",
   "execution_count": 10,
   "id": "465f72da-7432-48a5-a59c-4c0629778a36",
   "metadata": {},
   "outputs": [
    {
     "data": {
      "text/html": [
       "<div><style>\n",
       ".dataframe > thead > tr,\n",
       ".dataframe > tbody > tr {\n",
       "  text-align: right;\n",
       "  white-space: pre-wrap;\n",
       "}\n",
       "</style>\n",
       "<small>shape: (2, 4)</small><table border=\"1\" class=\"dataframe\"><thead><tr><th>feature</th><th>snp_id</th><th>beta</th><th>se</th></tr><tr><td>str</td><td>str</td><td>f64</td><td>f64</td></tr></thead><tbody><tr><td>&quot;data/gwas/saige/features-unnor…</td><td>&quot;SNP_1&quot;</td><td>-0.020836</td><td>0.0108679</td></tr><tr><td>&quot;data/gwas/saige/features-unnor…</td><td>&quot;SNP_10&quot;</td><td>-0.005789</td><td>0.01083</td></tr></tbody></table></div>"
      ],
      "text/plain": [
       "shape: (2, 4)\n",
       "┌─────────────────────────────────┬────────┬───────────┬───────────┐\n",
       "│ feature                         ┆ snp_id ┆ beta      ┆ se        │\n",
       "│ ---                             ┆ ---    ┆ ---       ┆ ---       │\n",
       "│ str                             ┆ str    ┆ f64       ┆ f64       │\n",
       "╞═════════════════════════════════╪════════╪═══════════╪═══════════╡\n",
       "│ data/gwas/saige/features-unnor… ┆ SNP_1  ┆ -0.020836 ┆ 0.0108679 │\n",
       "│ data/gwas/saige/features-unnor… ┆ SNP_10 ┆ -0.005789 ┆ 0.01083   │\n",
       "└─────────────────────────────────┴────────┴───────────┴───────────┘"
      ]
     },
     "execution_count": 10,
     "metadata": {},
     "output_type": "execute_result"
    }
   ],
   "source": [
    "feature_gwas_df = (\n",
    "    pl.scan_csv(\"data/gwas/saige/features-unnormed/feature_[01][0123456789].txt\", separator=\"\\t\", glob=True, include_file_paths=\"feature\")\n",
    "    .select(\n",
    "        pl.col(\"feature\")\n",
    "            .str.strip_prefix(\"data/gwas/saige/features/\")\n",
    "            .str.strip_suffix(\".txt\"),\n",
    "        pl.col(\"MarkerID\").alias(\"snp_id\"),\n",
    "        pl.col(\"BETA\", \"SE\").name.map(lambda x: x.lower())\n",
    "    )\n",
    "    .collect()\n",
    ")\n",
    "feature_gwas_df.head(2)"
   ]
  },
  {
   "cell_type": "code",
   "execution_count": 29,
   "id": "631d6081-1a75-421b-a845-32ada421299d",
   "metadata": {},
   "outputs": [],
   "source": [
    "beta_df = (\n",
    "    feature_gwas_df\n",
    "    .with_columns(\n",
    "        pl.col(\"feature\").str.strip_prefix(\"data/gwas/saige/features-unnormed/\")\n",
    "    )\n",
    "    .pivot(index=\"feature\", on=\"snp_id\", values=\"beta\")\n",
    "    .to_pandas()\n",
    "    .set_index(\"feature\")\n",
    "    .T\n",
    ")"
   ]
  },
  {
   "cell_type": "code",
   "execution_count": 44,
   "id": "a784abcc-c664-4a2d-8cf6-74336de4ac73",
   "metadata": {},
   "outputs": [],
   "source": [
    "comparison_df = (\n",
    "    (beta_df @ projection_df)\n",
    "    .melt(ignore_index=False, var_name=\"projection\", value_name=\"beta\")\n",
    "    .reset_index()\n",
    "    .pipe(pl.DataFrame)\n",
    "    .rename({\"index\": \"snp_id\"})\n",
    "    .join(direct_gwas_df, on=[\"snp_id\", \"projection\"], suffix=\"_indirect\")\n",
    ")"
   ]
  },
  {
   "cell_type": "code",
   "execution_count": 45,
   "id": "d3e7cc72-6cde-40a3-a81e-8354fbc37d27",
   "metadata": {},
   "outputs": [
    {
     "data": {
      "text/plain": [
       "<seaborn.axisgrid.FacetGrid at 0x15d013890>"
      ]
     },
     "execution_count": 45,
     "metadata": {},
     "output_type": "execute_result"
    },
    {
     "data": {
      "image/png": "[encoded data removed]",
      "text/plain": [
       "<Figure size 500x500 with 1 Axes>"
      ]
     },
     "metadata": {},
     "output_type": "display_data"
    }
   ],
   "source": [
    "(\n",
    "    comparison_df\n",
    "    .pipe(sns.relplot, x=\"beta_indirect\", y=\"beta\", kind=\"scatter\", facet_kws={\"sharex\": False, \"sharey\": False})\n",
    "    .map(lambda *args, **kwargs: plt.axline((0.01, 0.01), slope=1, color=\"gray\", linestyle=\"dashed\"))\n",
    ")"
   ]
  },
  {
   "cell_type": "code",
   "execution_count": 46,
   "id": "e59ceb6a-dcda-4715-b8aa-e4a3ef1cc211",
   "metadata": {},
   "outputs": [
    {
     "data": {
      "text/html": [
       "<div><style>\n",
       ".dataframe > thead > tr,\n",
       ".dataframe > tbody > tr {\n",
       "  text-align: right;\n",
       "  white-space: pre-wrap;\n",
       "}\n",
       "</style>\n",
       "<small>shape: (90_000, 5)</small><table border=\"1\" class=\"dataframe\"><thead><tr><th>snp_id</th><th>projection</th><th>beta</th><th>beta_indirect</th><th>se</th></tr><tr><td>str</td><td>str</td><td>f64</td><td>f64</td><td>f64</td></tr></thead><tbody><tr><td>&quot;SNP_1&quot;</td><td>&quot;projection_001&quot;</td><td>-0.001358</td><td>0.001239</td><td>0.0120804</td></tr><tr><td>&quot;SNP_10&quot;</td><td>&quot;projection_001&quot;</td><td>0.006864</td><td>0.008536</td><td>0.0120384</td></tr><tr><td>&quot;SNP_100&quot;</td><td>&quot;projection_001&quot;</td><td>-0.016337</td><td>-0.013542</td><td>0.0120667</td></tr><tr><td>&quot;SNP_1000&quot;</td><td>&quot;projection_001&quot;</td><td>0.012045</td><td>0.0134747</td><td>0.0146847</td></tr><tr><td>&quot;SNP_10000&quot;</td><td>&quot;projection_001&quot;</td><td>-0.071983</td><td>-0.072548</td><td>0.0197583</td></tr><tr><td>&hellip;</td><td>&hellip;</td><td>&hellip;</td><td>&hellip;</td><td>&hellip;</td></tr><tr><td>&quot;SNP_9995&quot;</td><td>&quot;projection_010&quot;</td><td>-0.011308</td><td>-0.009302</td><td>0.0121883</td></tr><tr><td>&quot;SNP_9996&quot;</td><td>&quot;projection_010&quot;</td><td>-0.022216</td><td>-0.020412</td><td>0.0121869</td></tr><tr><td>&quot;SNP_9997&quot;</td><td>&quot;projection_010&quot;</td><td>-0.004144</td><td>-0.003466</td><td>0.0197498</td></tr><tr><td>&quot;SNP_9998&quot;</td><td>&quot;projection_010&quot;</td><td>-0.002882</td><td>-0.00346</td><td>0.0121947</td></tr><tr><td>&quot;SNP_9999&quot;</td><td>&quot;projection_010&quot;</td><td>0.010133</td><td>0.0118419</td><td>0.0196931</td></tr></tbody></table></div>"
      ],
      "text/plain": [
       "shape: (90_000, 5)\n",
       "┌───────────┬────────────────┬───────────┬───────────────┬───────────┐\n",
       "│ snp_id    ┆ projection     ┆ beta      ┆ beta_indirect ┆ se        │\n",
       "│ ---       ┆ ---            ┆ ---       ┆ ---           ┆ ---       │\n",
       "│ str       ┆ str            ┆ f64       ┆ f64           ┆ f64       │\n",
       "╞═══════════╪════════════════╪═══════════╪═══════════════╪═══════════╡\n",
       "│ SNP_1     ┆ projection_001 ┆ -0.001358 ┆ 0.001239      ┆ 0.0120804 │\n",
       "│ SNP_10    ┆ projection_001 ┆ 0.006864  ┆ 0.008536      ┆ 0.0120384 │\n",
       "│ SNP_100   ┆ projection_001 ┆ -0.016337 ┆ -0.013542     ┆ 0.0120667 │\n",
       "│ SNP_1000  ┆ projection_001 ┆ 0.012045  ┆ 0.0134747     ┆ 0.0146847 │\n",
       "│ SNP_10000 ┆ projection_001 ┆ -0.071983 ┆ -0.072548     ┆ 0.0197583 │\n",
       "│ …         ┆ …              ┆ …         ┆ …             ┆ …         │\n",
       "│ SNP_9995  ┆ projection_010 ┆ -0.011308 ┆ -0.009302     ┆ 0.0121883 │\n",
       "│ SNP_9996  ┆ projection_010 ┆ -0.022216 ┆ -0.020412     ┆ 0.0121869 │\n",
       "│ SNP_9997  ┆ projection_010 ┆ -0.004144 ┆ -0.003466     ┆ 0.0197498 │\n",
       "│ SNP_9998  ┆ projection_010 ┆ -0.002882 ┆ -0.00346      ┆ 0.0121947 │\n",
       "│ SNP_9999  ┆ projection_010 ┆ 0.010133  ┆ 0.0118419     ┆ 0.0196931 │\n",
       "└───────────┴────────────────┴───────────┴───────────────┴───────────┘"
      ]
     },
     "execution_count": 46,
     "metadata": {},
     "output_type": "execute_result"
    }
   ],
   "source": [
    "(\n",
    "    comparison_df\n",
    ")"
   ]
  },
  {
   "cell_type": "code",
   "execution_count": null,
   "id": "3588d854-9ff9-457c-9e6d-4067820a0a90",
   "metadata": {},
   "outputs": [],
   "source": []
  },
  {
   "cell_type": "code",
   "execution_count": null,
   "id": "40eb4c57-3ccf-4f2b-8c14-edb55ce8d4b3",
   "metadata": {},
   "outputs": [],
   "source": []
  }
 ],
 "metadata": {
  "kernelspec": {
   "display_name": "Python 3 (ipykernel)",
   "language": "python",
   "name": "python3"
  },
  "language_info": {
   "codemirror_mode": {
    "name": "ipython",
    "version": 3
   },
   "file_extension": ".py",
   "mimetype": "text/x-python",
   "name": "python",
   "nbconvert_exporter": "python",
   "pygments_lexer": "ipython3",
   "version": "3.12.5"
  }
 },
 "nbformat": 4,
 "nbformat_minor": 5
}
