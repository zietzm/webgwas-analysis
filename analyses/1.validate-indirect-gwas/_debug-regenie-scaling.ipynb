{
 "cells": [
  {
   "cell_type": "code",
   "execution_count": 1,
   "id": "3b99d629-d139-4bf2-ae25-2894b13daef0",
   "metadata": {},
   "outputs": [],
   "source": [
    "import numpy as np\n",
    "import pandas as pd\n",
    "import polars as pl"
   ]
  },
  {
   "cell_type": "markdown",
   "id": "ce2a0346-2e41-4fcb-8280-0a9240a07f3c",
   "metadata": {},
   "source": [
    "# Replicate feature GWAS\n",
    "\n",
    "## Load data"
   ]
  },
  {
   "cell_type": "code",
   "execution_count": 2,
   "id": "a16b9167-e4fd-4692-8c90-8644f46986d0",
   "metadata": {},
   "outputs": [
    {
     "data": {
      "text/html": [
       "<div><style>\n",
       ".dataframe > thead > tr,\n",
       ".dataframe > tbody > tr {\n",
       "  text-align: right;\n",
       "  white-space: pre-wrap;\n",
       "}\n",
       "</style>\n",
       "<small>shape: (2, 2)</small><table border=\"1\" class=\"dataframe\"><thead><tr><th>IID</th><th>g</th></tr><tr><td>str</td><td>i64</td></tr></thead><tbody><tr><td>&quot;ID_1&quot;</td><td>1</td></tr><tr><td>&quot;ID_2&quot;</td><td>1</td></tr></tbody></table></div>"
      ],
      "text/plain": [
       "shape: (2, 2)\n",
       "┌──────┬─────┐\n",
       "│ IID  ┆ g   │\n",
       "│ ---  ┆ --- │\n",
       "│ str  ┆ i64 │\n",
       "╞══════╪═════╡\n",
       "│ ID_1 ┆ 1   │\n",
       "│ ID_2 ┆ 1   │\n",
       "└──────┴─────┘"
      ]
     },
     "execution_count": 2,
     "metadata": {},
     "output_type": "execute_result"
    }
   ],
   "source": [
    "genotype_df = (\n",
    "    pl.scan_csv(\"data/simulated-phenotypes/Genotypes.raw\", separator=\"\\t\")\n",
    "    .select(\"IID\", pl.col(\"SNP_1_.\").alias(\"g\"))\n",
    "    .collect()\n",
    ")\n",
    "genotype_df.head(2)"
   ]
  },
  {
   "cell_type": "code",
   "execution_count": 3,
   "id": "4901b8dd-609a-4c6d-9ebc-cfea6fbb4e8c",
   "metadata": {},
   "outputs": [
    {
     "data": {
      "text/html": [
       "<div><style>\n",
       ".dataframe > thead > tr,\n",
       ".dataframe > tbody > tr {\n",
       "  text-align: right;\n",
       "  white-space: pre-wrap;\n",
       "}\n",
       "</style>\n",
       "<small>shape: (2, 7)</small><table border=\"1\" class=\"dataframe\"><thead><tr><th>IID</th><th>x_1</th><th>x_2</th><th>x_3</th><th>x_4</th><th>x_5</th><th>x_6</th></tr><tr><td>str</td><td>f64</td><td>f64</td><td>f64</td><td>f64</td><td>f64</td><td>f64</td></tr></thead><tbody><tr><td>&quot;ID_1&quot;</td><td>1.079511</td><td>0.675817</td><td>0.335099</td><td>1.812403</td><td>-0.383385</td><td>1.0</td></tr><tr><td>&quot;ID_2&quot;</td><td>2.308693</td><td>-0.211148</td><td>-1.933398</td><td>1.139712</td><td>0.087484</td><td>1.0</td></tr></tbody></table></div>"
      ],
      "text/plain": [
       "shape: (2, 7)\n",
       "┌──────┬──────────┬───────────┬───────────┬──────────┬───────────┬─────┐\n",
       "│ IID  ┆ x_1      ┆ x_2       ┆ x_3       ┆ x_4      ┆ x_5       ┆ x_6 │\n",
       "│ ---  ┆ ---      ┆ ---       ┆ ---       ┆ ---      ┆ ---       ┆ --- │\n",
       "│ str  ┆ f64      ┆ f64       ┆ f64       ┆ f64      ┆ f64       ┆ f64 │\n",
       "╞══════╪══════════╪═══════════╪═══════════╪══════════╪═══════════╪═════╡\n",
       "│ ID_1 ┆ 1.079511 ┆ 0.675817  ┆ 0.335099  ┆ 1.812403 ┆ -0.383385 ┆ 1.0 │\n",
       "│ ID_2 ┆ 2.308693 ┆ -0.211148 ┆ -1.933398 ┆ 1.139712 ┆ 0.087484  ┆ 1.0 │\n",
       "└──────┴──────────┴───────────┴───────────┴──────────┴───────────┴─────┘"
      ]
     },
     "execution_count": 3,
     "metadata": {},
     "output_type": "execute_result"
    }
   ],
   "source": [
    "covar_df = (\n",
    "    pl.scan_csv(\"data/simulated-phenotypes/Covs_plink.txt\", separator=\"\\t\")\n",
    "    .select(\"IID\", pl.all().exclude(\"FID\", \"IID\"), const=1.0)\n",
    "    .rename({\n",
    "        \"sharedConfounder_norm1\": \"x_1\",\n",
    "        \"sharedConfounder_norm2\": \"x_2\",\n",
    "        \"sharedConfounder_norm3\": \"x_3\",\n",
    "        \"independentConfounder_norm1\": \"x_4\",\n",
    "        \"independentConfounder_norm2\": \"x_5\",\n",
    "        \"const\": \"x_6\"\n",
    "    })\n",
    "    .collect()\n",
    "    \n",
    ")\n",
    "covar_df.head(2)"
   ]
  },
  {
   "cell_type": "code",
   "execution_count": 4,
   "id": "e3c97902-9242-4b54-8d3a-926f195e0b56",
   "metadata": {},
   "outputs": [
    {
     "data": {
      "text/html": [
       "<div><style>\n",
       ".dataframe > thead > tr,\n",
       ".dataframe > tbody > tr {\n",
       "  text-align: right;\n",
       "  white-space: pre-wrap;\n",
       "}\n",
       "</style>\n",
       "<small>shape: (2, 2)</small><table border=\"1\" class=\"dataframe\"><thead><tr><th>IID</th><th>y</th></tr><tr><td>str</td><td>f64</td></tr></thead><tbody><tr><td>&quot;ID_1&quot;</td><td>-1.946783</td></tr><tr><td>&quot;ID_2&quot;</td><td>-2.037948</td></tr></tbody></table></div>"
      ],
      "text/plain": [
       "shape: (2, 2)\n",
       "┌──────┬───────────┐\n",
       "│ IID  ┆ y         │\n",
       "│ ---  ┆ ---       │\n",
       "│ str  ┆ f64       │\n",
       "╞══════╪═══════════╡\n",
       "│ ID_1 ┆ -1.946783 │\n",
       "│ ID_2 ┆ -2.037948 │\n",
       "└──────┴───────────┘"
      ]
     },
     "execution_count": 4,
     "metadata": {},
     "output_type": "execute_result"
    }
   ],
   "source": [
    "phenotype_df = (\n",
    "    pl.scan_csv(\"data/simulated-phenotypes/Ysim_plink_names.txt\", separator=\"\\t\")\n",
    "    .select(\"IID\", pl.col(\"feature_01\").alias(\"y\"))\n",
    "    .collect()\n",
    ")\n",
    "phenotype_df.head(2)"
   ]
  },
  {
   "cell_type": "markdown",
   "id": "fb9c270d-0ec4-4c00-9826-dfbc4e1aed41",
   "metadata": {},
   "source": [
    "## Combine data"
   ]
  },
  {
   "cell_type": "code",
   "execution_count": 5,
   "id": "fe08f6a3-12b5-4aff-b335-f9879cb5033b",
   "metadata": {},
   "outputs": [
    {
     "data": {
      "text/html": [
       "<div><style>\n",
       ".dataframe > thead > tr,\n",
       ".dataframe > tbody > tr {\n",
       "  text-align: right;\n",
       "  white-space: pre-wrap;\n",
       "}\n",
       "</style>\n",
       "<small>shape: (2, 9)</small><table border=\"1\" class=\"dataframe\"><thead><tr><th>IID</th><th>g</th><th>x_1</th><th>x_2</th><th>x_3</th><th>x_4</th><th>x_5</th><th>x_6</th><th>y</th></tr><tr><td>str</td><td>i64</td><td>f64</td><td>f64</td><td>f64</td><td>f64</td><td>f64</td><td>f64</td><td>f64</td></tr></thead><tbody><tr><td>&quot;ID_1&quot;</td><td>1</td><td>1.079511</td><td>0.675817</td><td>0.335099</td><td>1.812403</td><td>-0.383385</td><td>1.0</td><td>-1.946783</td></tr><tr><td>&quot;ID_2&quot;</td><td>1</td><td>2.308693</td><td>-0.211148</td><td>-1.933398</td><td>1.139712</td><td>0.087484</td><td>1.0</td><td>-2.037948</td></tr></tbody></table></div>"
      ],
      "text/plain": [
       "shape: (2, 9)\n",
       "┌──────┬─────┬──────────┬───────────┬───┬──────────┬───────────┬─────┬───────────┐\n",
       "│ IID  ┆ g   ┆ x_1      ┆ x_2       ┆ … ┆ x_4      ┆ x_5       ┆ x_6 ┆ y         │\n",
       "│ ---  ┆ --- ┆ ---      ┆ ---       ┆   ┆ ---      ┆ ---       ┆ --- ┆ ---       │\n",
       "│ str  ┆ i64 ┆ f64      ┆ f64       ┆   ┆ f64      ┆ f64       ┆ f64 ┆ f64       │\n",
       "╞══════╪═════╪══════════╪═══════════╪═══╪══════════╪═══════════╪═════╪═══════════╡\n",
       "│ ID_1 ┆ 1   ┆ 1.079511 ┆ 0.675817  ┆ … ┆ 1.812403 ┆ -0.383385 ┆ 1.0 ┆ -1.946783 │\n",
       "│ ID_2 ┆ 1   ┆ 2.308693 ┆ -0.211148 ┆ … ┆ 1.139712 ┆ 0.087484  ┆ 1.0 ┆ -2.037948 │\n",
       "└──────┴─────┴──────────┴───────────┴───┴──────────┴───────────┴─────┴───────────┘"
      ]
     },
     "execution_count": 5,
     "metadata": {},
     "output_type": "execute_result"
    }
   ],
   "source": [
    "merged_df = (\n",
    "    genotype_df\n",
    "    .join(covar_df, on=\"IID\")\n",
    "    .join(phenotype_df, on=\"IID\")\n",
    ")\n",
    "merged_df.head(2)"
   ]
  },
  {
   "cell_type": "markdown",
   "id": "78b9d21b-3401-4933-9331-6e942e5d1dfe",
   "metadata": {},
   "source": [
    "## Residualize data"
   ]
  },
  {
   "cell_type": "code",
   "execution_count": 6,
   "id": "afa53db4-1f48-4a36-a0f5-f052d1824f2f",
   "metadata": {},
   "outputs": [],
   "source": [
    "X = merged_df.select(\"^x_.+$\").to_pandas().values\n",
    "P = np.eye(1000) - X @ np.linalg.inv(X.T @ X) @ X.T\n",
    "\n",
    "g = merged_df[\"g\"].to_numpy()\n",
    "y = merged_df[\"y\"].to_numpy()\n",
    "\n",
    "gt_unscaled = P @ g\n",
    "yt_unscaled = P @ y\n",
    "\n",
    "gt_scaled = gt_unscaled / gt_unscaled.std()\n",
    "yt_scaled = yt_unscaled / yt_unscaled.std()\n",
    "\n",
    "N = 1000\n",
    "C = 6"
   ]
  },
  {
   "cell_type": "markdown",
   "id": "3e3a6218-bdf4-4ae6-a121-75d61e843d85",
   "metadata": {},
   "source": [
    "## Indirect GWAS"
   ]
  },
  {
   "cell_type": "code",
   "execution_count": 7,
   "id": "d7576ee1-e32a-4739-89a2-04a04d533b5d",
   "metadata": {},
   "outputs": [
    {
     "data": {
      "text/plain": [
       "np.float64(2.702984345815617)"
      ]
     },
     "execution_count": 7,
     "metadata": {},
     "output_type": "execute_result"
    }
   ],
   "source": [
    "T = (gt_unscaled @ yt_unscaled) * np.sqrt(N - C) / np.sqrt(gt_unscaled @ gt_unscaled) / np.linalg.norm(yt_unscaled, 2)\n",
    "T"
   ]
  },
  {
   "cell_type": "code",
   "execution_count": 8,
   "id": "be4aa34f-7da2-4c59-abc3-1e472ec60152",
   "metadata": {},
   "outputs": [
    {
     "data": {
      "text/plain": [
       "np.float64(2.702984345815617)"
      ]
     },
     "execution_count": 8,
     "metadata": {},
     "output_type": "execute_result"
    }
   ],
   "source": [
    "T = (gt_scaled @ yt_scaled) * np.sqrt(N - C) / np.sqrt(gt_scaled @ gt_scaled) / np.linalg.norm(yt_scaled, 2)\n",
    "T"
   ]
  },
  {
   "cell_type": "code",
   "execution_count": 9,
   "id": "7790a5c5-588b-482b-893c-42b1b148389f",
   "metadata": {},
   "outputs": [],
   "source": [
    "beta_hat_scaled = (gt_scaled @ yt_scaled) / (gt_scaled @ gt_scaled)\n",
    "se_hat_scaled = np.sqrt((yt_scaled @ yt_scaled) / (N - C) / (gt_scaled @ gt_scaled))\n",
    "\n",
    "assert np.allclose(T, beta_hat_scaled / se_hat_scaled)"
   ]
  },
  {
   "cell_type": "code",
   "execution_count": 10,
   "id": "511b8a4c-d825-41d7-8320-af2c5cac7721",
   "metadata": {},
   "outputs": [],
   "source": [
    "beta_hat_unscaled = (gt_unscaled @ yt_unscaled) / (gt_unscaled @ gt_unscaled)\n",
    "se_hat_unscaled = np.sqrt((yt_unscaled @ yt_unscaled) / (N - C) / (gt_unscaled @ gt_unscaled))\n",
    "\n",
    "assert np.allclose(T, beta_hat_unscaled / se_hat_unscaled)"
   ]
  },
  {
   "cell_type": "code",
   "execution_count": 11,
   "id": "fd8f5874-1077-4eaf-9c89-7dbdd2a8c121",
   "metadata": {},
   "outputs": [
    {
     "data": {
      "text/plain": [
       "np.float64(7.306124373724278)"
      ]
     },
     "execution_count": 11,
     "metadata": {},
     "output_type": "execute_result"
    }
   ],
   "source": [
    "chisq = T ** 2\n",
    "chisq"
   ]
  },
  {
   "cell_type": "code",
   "execution_count": 12,
   "id": "7ad213ac-f7f6-4c38-9eb7-acf23e1154a2",
   "metadata": {},
   "outputs": [
    {
     "data": {
      "text/plain": [
       "(np.float64(0.08573345746027532),\n",
       " np.float64(0.03171807398477756),\n",
       " np.float64(2.7029843458156173))"
      ]
     },
     "execution_count": 12,
     "metadata": {},
     "output_type": "execute_result"
    }
   ],
   "source": [
    "beta_hat_scaled, se_hat_scaled, beta_hat_scaled / se_hat_scaled"
   ]
  },
  {
   "cell_type": "code",
   "execution_count": 13,
   "id": "8643f52d-028b-4e91-a971-69489af69802",
   "metadata": {},
   "outputs": [
    {
     "data": {
      "text/plain": [
       "(np.float64(0.11419474053588408),\n",
       " np.float64(0.04224765145705132),\n",
       " np.float64(2.7029843458156173))"
      ]
     },
     "execution_count": 13,
     "metadata": {},
     "output_type": "execute_result"
    }
   ],
   "source": [
    "beta_hat_unscaled, se_hat_unscaled, beta_hat_unscaled / se_hat_unscaled"
   ]
  },
  {
   "cell_type": "markdown",
   "id": "b29b892e-6542-45d2-8338-3deec7903e0d",
   "metadata": {},
   "source": [
    "## Compare to direct"
   ]
  },
  {
   "cell_type": "code",
   "execution_count": 14,
   "id": "f729e332-7cec-4ec3-a43b-a2ce9c21d153",
   "metadata": {},
   "outputs": [
    {
     "data": {
      "text/html": [
       "<div><style>\n",
       ".dataframe > thead > tr,\n",
       ".dataframe > tbody > tr {\n",
       "  text-align: right;\n",
       "  white-space: pre-wrap;\n",
       "}\n",
       "</style>\n",
       "<small>shape: (1, 13)</small><table border=\"1\" class=\"dataframe\"><thead><tr><th>CHROM</th><th>GENPOS</th><th>ID</th><th>ALLELE0</th><th>ALLELE1</th><th>A1FREQ</th><th>N</th><th>TEST</th><th>BETA</th><th>SE</th><th>CHISQ</th><th>LOG10P</th><th>EXTRA</th></tr><tr><td>i64</td><td>i64</td><td>str</td><td>i64</td><td>i64</td><td>f64</td><td>i64</td><td>str</td><td>f64</td><td>f64</td><td>f64</td><td>f64</td><td>str</td></tr></thead><tbody><tr><td>1</td><td>0</td><td>&quot;SNP_1&quot;</td><td>0</td><td>0</td><td>0.5965</td><td>1000</td><td>&quot;ADD&quot;</td><td>-0.114195</td><td>0.0422477</td><td>7.30612</td><td>2.16292</td><td>&quot;NA&quot;</td></tr></tbody></table></div>"
      ],
      "text/plain": [
       "shape: (1, 13)\n",
       "┌───────┬────────┬───────┬─────────┬───┬───────────┬─────────┬─────────┬───────┐\n",
       "│ CHROM ┆ GENPOS ┆ ID    ┆ ALLELE0 ┆ … ┆ SE        ┆ CHISQ   ┆ LOG10P  ┆ EXTRA │\n",
       "│ ---   ┆ ---    ┆ ---   ┆ ---     ┆   ┆ ---       ┆ ---     ┆ ---     ┆ ---   │\n",
       "│ i64   ┆ i64    ┆ str   ┆ i64     ┆   ┆ f64       ┆ f64     ┆ f64     ┆ str   │\n",
       "╞═══════╪════════╪═══════╪═════════╪═══╪═══════════╪═════════╪═════════╪═══════╡\n",
       "│ 1     ┆ 0      ┆ SNP_1 ┆ 0       ┆ … ┆ 0.0422477 ┆ 7.30612 ┆ 2.16292 ┆ NA    │\n",
       "└───────┴────────┴───────┴─────────┴───┴───────────┴─────────┴─────────┴───────┘"
      ]
     },
     "execution_count": 14,
     "metadata": {},
     "output_type": "execute_result"
    }
   ],
   "source": [
    "(\n",
    "    pl.scan_csv(\"data/gwas/regenie/features/result_feature_01.regenie\", separator=\" \")\n",
    "    .filter(pl.col(\"ID\").eq(\"SNP_1\"))\n",
    "    .collect()\n",
    ")"
   ]
  },
  {
   "attachments": {},
   "cell_type": "markdown",
   "id": "c17ae4e5-fc6c-488e-8734-7bd77af72494",
   "metadata": {},
   "source": [
    "# $\\tilde{g}^\\intercal \\tilde{g}$"
   ]
  },
  {
   "cell_type": "code",
   "execution_count": 15,
   "id": "a6abddf2-4b07-4de3-b322-79f0a6ff86e5",
   "metadata": {},
   "outputs": [
    {
     "name": "stdout",
     "output_type": "stream",
     "text": [
      "Unscaled: 467.18324528470043, Scaled: 1000.0\n",
      "Unscaled: 467.18324528470055, Scaled: 1000.0000000000001\n"
     ]
    }
   ],
   "source": [
    "gtg_unscaled = gt_unscaled @ gt_unscaled\n",
    "gtg_scaled = gt_scaled @ gt_scaled\n",
    "\n",
    "print(f\"Unscaled: {gtg_unscaled}, Scaled: {gtg_scaled}\")\n",
    "\n",
    "gtg_hat_unscaled = (yt_unscaled @ yt_unscaled) / ((N - C) * se_hat_unscaled**2)\n",
    "gtg_hat_scaled = (yt_scaled @ yt_scaled) / ((N - C) * se_hat_scaled**2)\n",
    "\n",
    "print(f\"Unscaled: {gtg_hat_unscaled}, Scaled: {gtg_hat_scaled}\")"
   ]
  }
 ],
 "metadata": {
  "kernelspec": {
   "display_name": "Python 3 (ipykernel)",
   "language": "python",
   "name": "python3"
  },
  "language_info": {
   "codemirror_mode": {
    "name": "ipython",
    "version": 3
   },
   "file_extension": ".py",
   "mimetype": "text/x-python",
   "name": "python",
   "nbconvert_exporter": "python",
   "pygments_lexer": "ipython3",
   "version": "3.12.5"
  }
 },
 "nbformat": 4,
 "nbformat_minor": 5
}
