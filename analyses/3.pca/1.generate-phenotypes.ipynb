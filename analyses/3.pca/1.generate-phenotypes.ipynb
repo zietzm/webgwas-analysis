{
 "cells": [
  {
   "cell_type": "code",
   "execution_count": 1,
   "id": "ee30c1c9-9e9e-4f3a-84b7-6596adb90752",
   "metadata": {},
   "outputs": [
    {
     "data": {
      "text/plain": [
       "<Figure size 100x100 with 0 Axes>"
      ]
     },
     "metadata": {},
     "output_type": "display_data"
    }
   ],
   "source": [
    "import shutil\n",
    "import pathlib\n",
    "import subprocess\n",
    "import shlex\n",
    "\n",
    "from sklearn.decomposition import PCA\n",
    "import polars as pl\n",
    "import seaborn as sns\n",
    "import matplotlib.pyplot as plt\n",
    "import tqdm.notebook as tqdm\n",
    "import patchworklib as pw "
   ]
  },
  {
   "cell_type": "code",
   "execution_count": 2,
   "id": "08447d3c-9b21-46c8-b017-e088cfa5d5ba",
   "metadata": {},
   "outputs": [],
   "source": [
    "shutil.rmtree(\"data/pheno\", ignore_errors=True)\n",
    "pheno_root = pathlib.Path(\"data/pheno\")\n",
    "pheno_root.mkdir(exist_ok=True)"
   ]
  },
  {
   "cell_type": "markdown",
   "id": "d3b6b0fc-784f-44e5-bf0e-380419c39cfb",
   "metadata": {},
   "source": [
    "# Select ICD-10 features"
   ]
  },
  {
   "cell_type": "code",
   "execution_count": 3,
   "id": "a64da849-4973-42a8-972e-967cc12b5941",
   "metadata": {},
   "outputs": [
    {
     "name": "stdout",
     "output_type": "stream",
     "text": [
      "Keeping 608 ICD-10 codes\n"
     ]
    }
   ],
   "source": [
    "min_sample_size = 1000\n",
    "\n",
    "columns_to_keep = (\n",
    "    pl.scan_csv(\"../../data/pheno_jan2024.tsv\", separator=\"\\t\")\n",
    "    .select(pl.col(\"^b_.+$\").sub(2).sum())\n",
    "    .unpivot()\n",
    "    .filter(pl.col(\"value\").ge(min_sample_size))\n",
    "    .collect()\n",
    "    [\"variable\"]\n",
    "    .to_list()\n",
    ")\n",
    "print(f\"Keeping {len(columns_to_keep)} ICD-10 codes\")\n",
    "\n",
    "(\n",
    "    pl.scan_csv(\"../../data/pheno_jan2024.tsv\", separator=\"\\t\")\n",
    "    .select(\"#FID\", \"IID\", pl.col(columns_to_keep).name.map(lambda x: x.replace(\"b_\", \"\")))\n",
    "    .sink_csv(pheno_root / \"icd.tsv\", separator=\"\\t\", null_value=\"NA\")\n",
    ")"
   ]
  },
  {
   "cell_type": "markdown",
   "id": "30233386-d758-4ef7-8242-4104188e84f9",
   "metadata": {},
   "source": [
    "# Compute PCA phenotypes"
   ]
  },
  {
   "cell_type": "code",
   "execution_count": 4,
   "id": "1a74834c-7366-4d83-9de7-ed4a4c5d1617",
   "metadata": {},
   "outputs": [
    {
     "data": {
      "application/vnd.jupyter.widget-view+json": {
       "model_id": "b580341f88434de39d8f92b885f0b90c",
       "version_major": 2,
       "version_minor": 0
      },
      "text/plain": [
       "  0%|          | 0/5 [00:00<?, ?it/s]"
      ]
     },
     "metadata": {},
     "output_type": "display_data"
    },
    {
     "name": "stdout",
     "output_type": "stream",
     "text": [
      "Fraction: 10, Keeping: 60\n",
      "Fraction: 25, Keeping: 152\n",
      "Fraction: 50, Keeping: 304\n",
      "Fraction: 75, Keeping: 456\n",
      "Fraction: 90, Keeping: 547\n"
     ]
    }
   ],
   "source": [
    "pheno_df = pl.read_csv(pheno_root / \"icd.tsv\", separator=\"\\t\", null_values=[\"NA\"])\n",
    "\n",
    "X = (\n",
    "    pheno_df\n",
    "    .select(pl.col(\"^[A-Z][0-9]{2}$\"))\n",
    "    .to_pandas()\n",
    "    .astype(float)\n",
    ")\n",
    "fid_iid = pheno_df.select(\"#FID\", \"IID\")\n",
    "column_names = X.columns.tolist()\n",
    "n_codes = len(column_names)\n",
    "\n",
    "fractions = [10, 25, 50, 75, 90]\n",
    "\n",
    "for fraction in tqdm.tqdm(fractions):\n",
    "    n_to_keep = int(n_codes * fraction / 100)\n",
    "    print(f\"Fraction: {fraction}, Keeping: {n_to_keep}\")\n",
    "    pca = PCA(n_components=n_to_keep)\n",
    "    pcs = pca.fit_transform(X)\n",
    "    Xhat = pca.inverse_transform(pcs)\n",
    "    Xhat_df = pl.concat([\n",
    "        fid_iid,\n",
    "        pl.DataFrame(Xhat, schema=column_names)\n",
    "    ], how=\"horizontal\")\n",
    "    Xhat_df.write_csv(pheno_root / f\"icd_pca_{fraction}.tsv\", separator=\"\\t\", null_value=\"NA\")"
   ]
  },
  {
   "cell_type": "markdown",
   "id": "50d33c18-38fd-4ec6-b51f-554a5575e187",
   "metadata": {},
   "source": [
    "# GWAS"
   ]
  },
  {
   "cell_type": "code",
   "execution_count": 5,
   "id": "bf78d27b-0092-45cb-9cce-135cf77315d7",
   "metadata": {},
   "outputs": [],
   "source": [
    "shutil.rmtree(\"data/gwas\", ignore_errors=True)\n",
    "gwas_root = pathlib.Path(\"data/gwas\")\n",
    "gwas_root.mkdir(exist_ok=True)"
   ]
  },
  {
   "cell_type": "code",
   "execution_count": 6,
   "id": "cf04a192-40fa-4d45-8912-a9701b9c02fe",
   "metadata": {},
   "outputs": [
    {
     "name": "stdout",
     "output_type": "stream",
     "text": [
      "PLINK v2.0.0-a.6.0LM AVX2 Intel (11 Nov 2024)      cog-genomics.org/plink/2.0/\n",
      "(C) 2005-2024 Shaun Purcell, Christopher Chang   GNU General Public License v3\n",
      "Logging to data/gwas/icd/result.log.\n",
      "Options in effect:\n",
      "  --glm allow-no-covars hide-covar zs\n",
      "  --no-input-missing-phenotype\n",
      "  --out data/gwas/icd/result\n",
      "  --pfile ../../data/geno/ukb_wb_subsampled\n",
      "  --pheno data/pheno/icd.tsv\n",
      "  --threads 110\n",
      "\n",
      "Start time: Sat Dec  7 17:21:27 2024\n",
      "1031943 MiB RAM detected, ~949202 available; reserving 515971 MiB for main\n",
      "workspace.\n",
      "Using up to 110 threads (change this with --threads).\n",
      "429954 samples (232741 females, 197213 males; 429954 founders) loaded from\n",
      "../../data/geno/ukb_wb_subsampled.psam.\n",
      "10000 variants loaded from ../../data/geno/ukb_wb_subsampled.pvar.\n",
      "608 quantitative phenotypes loaded.\n",
      "Calculating allele frequencies... done.\n",
      "--glm linear regression on quantitative phenotypes #1-240: done.\n",
      "--glm linear regression on quantitative phenotypes #241-480: done.\n",
      "--glm linear regression on quantitative phenotypes #481-608: done.\n",
      "Results written to data/gwas/icd/result.<phenotype name>.glm.linear.zst .\n",
      "End time: Sat Dec  7 17:26:02 2024\n",
      "PLINK v2.0.0-a.6.0LM AVX2 Intel (11 Nov 2024)      cog-genomics.org/plink/2.0/\n",
      "(C) 2005-2024 Shaun Purcell, Christopher Chang   GNU General Public License v3\n",
      "Logging to data/gwas/icd_pca_10/result.log.\n",
      "Options in effect:\n",
      "  --glm allow-no-covars hide-covar zs\n",
      "  --no-input-missing-phenotype\n",
      "  --out data/gwas/icd_pca_10/result\n",
      "  --pfile ../../data/geno/ukb_wb_subsampled\n",
      "  --pheno data/pheno/icd_pca_10.tsv\n",
      "  --threads 110\n",
      "\n",
      "Start time: Sat Dec  7 17:26:04 2024\n",
      "1031943 MiB RAM detected, ~949263 available; reserving 515971 MiB for main\n",
      "workspace.\n",
      "Using up to 110 threads (change this with --threads).\n",
      "429954 samples (232741 females, 197213 males; 429954 founders) loaded from\n",
      "../../data/geno/ukb_wb_subsampled.psam.\n",
      "10000 variants loaded from ../../data/geno/ukb_wb_subsampled.pvar.\n",
      "608 quantitative phenotypes loaded.\n",
      "Calculating allele frequencies... done.\n",
      "--glm linear regression on quantitative phenotypes #1-240: done.\n",
      "--glm linear regression on quantitative phenotypes #241-480: done.\n",
      "--glm linear regression on quantitative phenotypes #481-608: done.\n",
      "Results written to data/gwas/icd_pca_10/result.<phenotype name>.glm.linear.zst\n",
      ".\n",
      "End time: Sat Dec  7 17:29:25 2024\n",
      "PLINK v2.0.0-a.6.0LM AVX2 Intel (11 Nov 2024)      cog-genomics.org/plink/2.0/\n",
      "(C) 2005-2024 Shaun Purcell, Christopher Chang   GNU General Public License v3\n",
      "Logging to data/gwas/icd_pca_25/result.log.\n",
      "Options in effect:\n",
      "  --glm allow-no-covars hide-covar zs\n",
      "  --no-input-missing-phenotype\n",
      "  --out data/gwas/icd_pca_25/result\n",
      "  --pfile ../../data/geno/ukb_wb_subsampled\n",
      "  --pheno data/pheno/icd_pca_25.tsv\n",
      "  --threads 110\n",
      "\n",
      "Start time: Sat Dec  7 17:29:27 2024\n",
      "1031943 MiB RAM detected, ~949240 available; reserving 515971 MiB for main\n",
      "workspace.\n",
      "Using up to 110 threads (change this with --threads).\n",
      "429954 samples (232741 females, 197213 males; 429954 founders) loaded from\n",
      "../../data/geno/ukb_wb_subsampled.psam.\n",
      "10000 variants loaded from ../../data/geno/ukb_wb_subsampled.pvar.\n",
      "608 quantitative phenotypes loaded.\n",
      "Calculating allele frequencies... done.\n",
      "--glm linear regression on quantitative phenotypes #1-240: done.\n",
      "--glm linear regression on quantitative phenotypes #241-480: done.\n",
      "--glm linear regression on quantitative phenotypes #481-608: done.\n",
      "Results written to data/gwas/icd_pca_25/result.<phenotype name>.glm.linear.zst\n",
      ".\n",
      "End time: Sat Dec  7 17:32:40 2024\n",
      "PLINK v2.0.0-a.6.0LM AVX2 Intel (11 Nov 2024)      cog-genomics.org/plink/2.0/\n",
      "(C) 2005-2024 Shaun Purcell, Christopher Chang   GNU General Public License v3\n",
      "Logging to data/gwas/icd_pca_50/result.log.\n",
      "Options in effect:\n",
      "  --glm allow-no-covars hide-covar zs\n",
      "  --no-input-missing-phenotype\n",
      "  --out data/gwas/icd_pca_50/result\n",
      "  --pfile ../../data/geno/ukb_wb_subsampled\n",
      "  --pheno data/pheno/icd_pca_50.tsv\n",
      "  --threads 110\n",
      "\n",
      "Start time: Sat Dec  7 17:32:42 2024\n",
      "1031943 MiB RAM detected, ~949276 available; reserving 515971 MiB for main\n",
      "workspace.\n",
      "Using up to 110 threads (change this with --threads).\n",
      "429954 samples (232741 females, 197213 males; 429954 founders) loaded from\n",
      "../../data/geno/ukb_wb_subsampled.psam.\n",
      "10000 variants loaded from ../../data/geno/ukb_wb_subsampled.pvar.\n",
      "608 quantitative phenotypes loaded.\n",
      "Calculating allele frequencies... done.\n",
      "--glm linear regression on quantitative phenotypes #1-240: done.\n",
      "--glm linear regression on quantitative phenotypes #241-480: done.\n",
      "--glm linear regression on quantitative phenotypes #481-608: done.\n",
      "Results written to data/gwas/icd_pca_50/result.<phenotype name>.glm.linear.zst\n",
      ".\n",
      "End time: Sat Dec  7 17:36:09 2024\n",
      "PLINK v2.0.0-a.6.0LM AVX2 Intel (11 Nov 2024)      cog-genomics.org/plink/2.0/\n",
      "(C) 2005-2024 Shaun Purcell, Christopher Chang   GNU General Public License v3\n",
      "Logging to data/gwas/icd_pca_75/result.log.\n",
      "Options in effect:\n",
      "  --glm allow-no-covars hide-covar zs\n",
      "  --no-input-missing-phenotype\n",
      "  --out data/gwas/icd_pca_75/result\n",
      "  --pfile ../../data/geno/ukb_wb_subsampled\n",
      "  --pheno data/pheno/icd_pca_75.tsv\n",
      "  --threads 110\n",
      "\n",
      "Start time: Sat Dec  7 17:36:11 2024\n",
      "1031943 MiB RAM detected, ~949221 available; reserving 515971 MiB for main\n",
      "workspace.\n",
      "Using up to 110 threads (change this with --threads).\n",
      "429954 samples (232741 females, 197213 males; 429954 founders) loaded from\n",
      "../../data/geno/ukb_wb_subsampled.psam.\n",
      "10000 variants loaded from ../../data/geno/ukb_wb_subsampled.pvar.\n",
      "608 quantitative phenotypes loaded.\n",
      "Calculating allele frequencies... done.\n",
      "--glm linear regression on quantitative phenotypes #1-240: done.\n",
      "--glm linear regression on quantitative phenotypes #241-480: done.\n",
      "--glm linear regression on quantitative phenotypes #481-608: done.\n",
      "Results written to data/gwas/icd_pca_75/result.<phenotype name>.glm.linear.zst\n",
      ".\n",
      "End time: Sat Dec  7 17:39:32 2024\n",
      "PLINK v2.0.0-a.6.0LM AVX2 Intel (11 Nov 2024)      cog-genomics.org/plink/2.0/\n",
      "(C) 2005-2024 Shaun Purcell, Christopher Chang   GNU General Public License v3\n",
      "Logging to data/gwas/icd_pca_90/result.log.\n",
      "Options in effect:\n",
      "  --glm allow-no-covars hide-covar zs\n",
      "  --no-input-missing-phenotype\n",
      "  --out data/gwas/icd_pca_90/result\n",
      "  --pfile ../../data/geno/ukb_wb_subsampled\n",
      "  --pheno data/pheno/icd_pca_90.tsv\n",
      "  --threads 110\n",
      "\n",
      "Start time: Sat Dec  7 17:39:34 2024\n",
      "1031943 MiB RAM detected, ~949179 available; reserving 515971 MiB for main\n",
      "workspace.\n",
      "Using up to 110 threads (change this with --threads).\n",
      "429954 samples (232741 females, 197213 males; 429954 founders) loaded from\n",
      "../../data/geno/ukb_wb_subsampled.psam.\n",
      "10000 variants loaded from ../../data/geno/ukb_wb_subsampled.pvar.\n",
      "608 quantitative phenotypes loaded.\n",
      "Calculating allele frequencies... done.\n",
      "--glm linear regression on quantitative phenotypes #1-240: done.\n",
      "--glm linear regression on quantitative phenotypes #241-480: done.\n",
      "--glm linear regression on quantitative phenotypes #481-608: done.\n",
      "Results written to data/gwas/icd_pca_90/result.<phenotype name>.glm.linear.zst\n",
      ".\n",
      "End time: Sat Dec  7 17:43:05 2024\n"
     ]
    }
   ],
   "source": [
    "for path in pheno_root.glob(\"*.tsv\"):\n",
    "    output_root = gwas_root / path.stem\n",
    "    output_root.mkdir(exist_ok=True)\n",
    "\n",
    "    # For fast testing, add --thin-indiv-count 10000\n",
    "    command = f\"\"\"\n",
    "    plink2 \\\n",
    "      --pfile ../../data/geno/ukb_wb_subsampled \\\n",
    "      --pheno {path.as_posix()} \\\n",
    "      --no-input-missing-phenotype \\\n",
    "      --glm allow-no-covars hide-covar zs \\\n",
    "      --threads 110 \\\n",
    "      --out {output_root.joinpath('result').as_posix()}\n",
    "    \"\"\"\n",
    "    subprocess.run(shlex.split(command))"
   ]
  },
  {
   "cell_type": "markdown",
   "id": "23b296db-646e-45ce-949c-1863abe2b82c",
   "metadata": {},
   "source": [
    "# Gather GWAS"
   ]
  },
  {
   "cell_type": "code",
   "execution_count": 7,
   "id": "a497a2ef-a3e7-4351-8c0f-ac351ba32ffc",
   "metadata": {},
   "outputs": [],
   "source": [
    "(\n",
    "    pl.scan_csv(\"data/gwas/*/result.*.glm.linear.zst\", separator=\"\\t\", glob=True, include_file_paths=\"path\")\n",
    "    .select(\n",
    "        (\n",
    "            pl.col(\"path\")\n",
    "            .str.strip_prefix(\"data/gwas/\")\n",
    "            .str.strip_suffix(\".glm.linear.zst\")\n",
    "        ),\n",
    "        pl.col(\"ID\").alias(\"variant_id\"),\n",
    "        pl.col(\"T_STAT\").pow(2).alias(\"chisq\"),\n",
    "    )\n",
    "    .select(\n",
    "        pl.col(\"path\").str.extract(\"icd_pca_([0-9]{2})\").fill_null(\"100\").alias(\"fraction\"),\n",
    "        pl.col(\"path\").str.extract(\"([A-Z][0-9]{2})$\").alias(\"phenotype\"),\n",
    "        \"variant_id\",\n",
    "        \"chisq\",\n",
    "    )\n",
    "    .sink_parquet(gwas_root / \"full_gwas.parquet\")\n",
    ")"
   ]
  },
  {
   "cell_type": "markdown",
   "id": "fbce6034-b4e3-4ea4-8761-a56e6724f593",
   "metadata": {},
   "source": [
    "# Compute GWAS fit"
   ]
  },
  {
   "cell_type": "code",
   "execution_count": 8,
   "id": "56c35a82-9e38-41c1-9fd2-a027a93340da",
   "metadata": {},
   "outputs": [],
   "source": [
    "results_df = pl.scan_parquet(gwas_root / \"full_gwas.parquet\")\n",
    "true_df = (\n",
    "    results_df\n",
    "    .filter(pl.col(\"fraction\").eq(\"100\"))\n",
    "    .drop([\"fraction\"])\n",
    "    .rename({\"chisq\": \"chisq_true\"})\n",
    ")\n",
    "est_df = (\n",
    "    results_df\n",
    "    .filter(pl.col(\"fraction\").ne(\"100\"))\n",
    "    .rename({\"chisq\": \"chisq_est\"})\n",
    ")\n",
    "(\n",
    "    true_df\n",
    "    .join(est_df, on=[\"phenotype\", \"variant_id\"])\n",
    "    .sink_parquet(gwas_root / \"comparison.parquet\")\n",
    ")"
   ]
  },
  {
   "cell_type": "code",
   "execution_count": 9,
   "id": "712d9650-dd66-4dd4-b366-185ecdd68f55",
   "metadata": {},
   "outputs": [],
   "source": [
    "(\n",
    "    pl.scan_parquet(gwas_root / \"comparison.parquet\")\n",
    "    .group_by([\"phenotype\", \"fraction\"])\n",
    "    .agg(pl.corr(\"chisq_true\", \"chisq_est\").alias(\"r\"))\n",
    "    .with_columns(pl.col(\"r\").pow(2).alias(\"rsq\"))\n",
    "    .collect()\n",
    "    .write_parquet(\"data/gwas_summary.parquet\")\n",
    ")"
   ]
  },
  {
   "cell_type": "markdown",
   "id": "611f2498-9ced-4d82-aae5-70d7851a547b",
   "metadata": {},
   "source": [
    "# Compute phenotype fit"
   ]
  },
  {
   "cell_type": "code",
   "execution_count": 10,
   "id": "b9b7949d-743f-4725-8ee7-9c2bd60b9298",
   "metadata": {},
   "outputs": [],
   "source": [
    "full_pheno_df = pl.scan_csv(pheno_root / \"icd.tsv\", separator=\"\\t\", null_values=[\"NA\"])\n",
    "icd_codes = full_pheno_df.drop([\"#FID\", \"IID\"]).collect_schema().names()\n",
    "\n",
    "approx_pheno_paths = list(pheno_root.glob(\"icd_*.tsv\"))\n",
    "\n",
    "pheno_fit_results = list()\n",
    "for approx_pheno_path in approx_pheno_paths:\n",
    "    fraction = approx_pheno_path.stem.split(\"_\")[-1]\n",
    "    \n",
    "    approx_pheno_df = (\n",
    "        full_pheno_df\n",
    "        .join(\n",
    "            pl.scan_csv(approx_pheno_path, separator=\"\\t\", null_values=[\"NA\"]),\n",
    "            on=[\"#FID\", \"IID\"], suffix=\"_est\"\n",
    "        )\n",
    "    )\n",
    "\n",
    "    this_summary_df = (\n",
    "        approx_pheno_df\n",
    "        .select([\n",
    "            pl.corr(icd_code, f\"{icd_code}_est\").alias(icd_code)\n",
    "            for icd_code in icd_codes\n",
    "        ])\n",
    "        .unpivot(variable_name=\"phenotype\", value_name=\"r\")\n",
    "        .select(\n",
    "            pl.lit(fraction).alias(\"fraction\"),\n",
    "            \"phenotype\",\n",
    "            \"r\",\n",
    "            pl.col(\"r\").pow(2).alias(\"rsq\"),\n",
    "        )\n",
    "    )\n",
    "    pheno_fit_results.append(this_summary_df)\n",
    "\n",
    "(\n",
    "    pl.concat(pheno_fit_results)\n",
    "    .collect()\n",
    "    .write_parquet(\"data/pheno_summary.parquet\")\n",
    ")"
   ]
  }
 ],
 "metadata": {
  "kernelspec": {
   "display_name": "Python 3 (ipykernel)",
   "language": "python",
   "name": "python3"
  },
  "language_info": {
   "codemirror_mode": {
    "name": "ipython",
    "version": 3
   },
   "file_extension": ".py",
   "mimetype": "text/x-python",
   "name": "python",
   "nbconvert_exporter": "python",
   "pygments_lexer": "ipython3",
   "version": "3.12.7"
  }
 },
 "nbformat": 4,
 "nbformat_minor": 5
}
