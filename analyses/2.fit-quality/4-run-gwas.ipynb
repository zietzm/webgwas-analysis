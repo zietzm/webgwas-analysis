{
 "cells": [
  {
   "cell_type": "code",
   "execution_count": 1,
   "id": "147d81bc-7015-4a6a-8060-2937eb39a47d",
   "metadata": {},
   "outputs": [],
   "source": [
    "import pathlib\n",
    "import shlex\n",
    "import subprocess\n",
    "\n",
    "import matplotlib.pyplot as plt\n",
    "import numpy as np\n",
    "import pandas as pd\n",
    "import polars as pl\n",
    "import seaborn as sns\n",
    "import sklearn.linear_model\n",
    "import tqdm.notebook as tqdm"
   ]
  },
  {
   "cell_type": "code",
   "execution_count": 2,
   "id": "fcacc6be-2a63-4868-acdb-c4cbd92b386d",
   "metadata": {},
   "outputs": [],
   "source": [
    "pathlib.Path(\"data/gwas\").mkdir(exist_ok=True, parents=True)\n",
    "pathlib.Path(\"data/gwas/feature\").mkdir(exist_ok=True, parents=True)\n",
    "pathlib.Path(\"data/gwas/direct\").mkdir(exist_ok=True, parents=True)\n",
    "pathlib.Path(\"data/indirect-betas\").mkdir(exist_ok=True, parents=True)"
   ]
  },
  {
   "cell_type": "code",
   "execution_count": 3,
   "id": "9a16294f-4bf4-48dd-9163-3a685165d21a",
   "metadata": {},
   "outputs": [],
   "source": [
    "(\n",
    "    pl.concat([\n",
    "            pl.scan_csv(\"data/pheno/original.tsv\", separator=\"\\t\").select(\"FID\", \"IID\"),\n",
    "            pl.scan_csv(\"data/pheno/rand_original.tsv\", separator=\"\\t\"),\n",
    "        ], how=\"horizontal\"\n",
    "    )\n",
    "    .collect()\n",
    "    .write_csv(\"data/pheno/rand_original_gwas.tsv\", separator=\"\\t\")\n",
    ")"
   ]
  },
  {
   "cell_type": "code",
   "execution_count": 4,
   "id": "e77cdf18-f708-4d0a-a24b-a5c1a45dbdca",
   "metadata": {},
   "outputs": [
    {
     "name": "stdout",
     "output_type": "stream",
     "text": [
      "PLINK v2.00a6 M1 (18 Aug 2024)                 www.cog-genomics.org/plink/2.0/\n",
      "(C) 2005-2024 Shaun Purcell, Christopher Chang   GNU General Public License v3\n",
      "Logging to ../../data/geno/ukb_wb_subsampled.log.\n",
      "Options in effect:\n",
      "  --make-pgen\n",
      "  --out ../../data/geno/ukb_wb_subsampled\n",
      "  --pfile ../../data/geno/hapmap3_variants_white_british\n",
      "  --thin-count 10000\n",
      "\n",
      "Start time: Fri Nov 15 16:32:04 2024\n",
      "65536 MiB RAM detected; reserving 32768 MiB for main workspace.\n",
      "Using up to 16 threads (change this with --threads).\n",
      "429954 samples (232741 females, 197213 males; 429954 founders) loaded from\n",
      "../../data/geno/hapmap3_variants_white_british.psam.\n",
      "1166145 variants loaded from\n",
      "../../data/geno/hapmap3_variants_white_british.pvar.\n",
      "Note: No phenotype data present.\n",
      "--thin-count: 1156145 variants removed (10000 remaining).\n",
      "10000 variants remaining after main filters.\n",
      "Writing ../../data/geno/ukb_wb_subsampled.psam ... done.\n",
      "Writing ../../data/geno/ukb_wb_subsampled.pvar ... done.\n",
      "Writing ../../data/geno/ukb_wb_subsampled.pgen ... done.\n",
      "End time: Fri Nov 15 16:32:09 2024\n"
     ]
    }
   ],
   "source": [
    "command = \"\"\"\n",
    "plink2 \\\n",
    "  --pfile ../../data/geno/hapmap3_variants_white_british \\\n",
    "  --thin-count 10000 \\\n",
    "  --make-pgen \\\n",
    "  --out ../../data/geno/ukb_wb_subsampled\n",
    "\"\"\"\n",
    "result = subprocess.run(shlex.split(command))"
   ]
  },
  {
   "cell_type": "code",
   "execution_count": 5,
   "id": "f479c6e1-fd3e-4732-b1fd-ecdee8958108",
   "metadata": {},
   "outputs": [
    {
     "name": "stdout",
     "output_type": "stream",
     "text": [
      "PLINK v2.00a6 M1 (18 Aug 2024)                 www.cog-genomics.org/plink/2.0/\n",
      "(C) 2005-2024 Shaun Purcell, Christopher Chang   GNU General Public License v3\n",
      "Logging to data/gwas/feature/result.log.\n",
      "Options in effect:\n",
      "  --glm allow-no-covars hide-covar zs\n",
      "  --out data/gwas/feature/result\n",
      "  --pfile ../../data/geno/ukb_wb_subsampled\n",
      "  --pheno data/pheno/original.tsv\n",
      "\n",
      "Start time: Fri Nov 15 16:32:09 2024\n",
      "65536 MiB RAM detected; reserving 32768 MiB for main workspace.\n",
      "Using up to 16 threads (change this with --threads).\n",
      "429954 samples (232741 females, 197213 males; 429954 founders) loaded from\n",
      "../../data/geno/ukb_wb_subsampled.psam.\n",
      "10000 variants loaded from ../../data/geno/ukb_wb_subsampled.pvar.\n",
      "500 phenotypes loaded (16 binary, 484 quantitative).\n",
      "Calculating allele frequencies... done.\n",
      "--glm linear regression on quantitative phenotypes #1-240: done.\n",
      "--glm linear regression on quantitative phenotypes #241-480: done.\n",
      "--glm linear regression on quantitative phenotypes #481-484: done.\n",
      "Results written to data/gwas/feature/result.<phenotype name>.glm.linear.zst .\n",
      "End time: Fri Nov 15 16:32:49 2024\n"
     ]
    },
    {
     "name": "stderr",
     "output_type": "stream",
     "text": [
      "Error: All samples for --glm phenotype 'q_5074_4' are controls.\n"
     ]
    }
   ],
   "source": [
    "command = \"\"\"\n",
    "plink2 \\\n",
    "  --pfile ../../data/geno/ukb_wb_subsampled \\\n",
    "  --pheno data/pheno/original.tsv \\\n",
    "  --glm allow-no-covars hide-covar zs \\\n",
    "  --out data/gwas/feature/result\n",
    "\"\"\"\n",
    "result = subprocess.run(shlex.split(command))"
   ]
  },
  {
   "cell_type": "code",
   "execution_count": 6,
   "id": "51e3b712-4c90-4249-915f-4a0de01697dc",
   "metadata": {},
   "outputs": [
    {
     "name": "stdout",
     "output_type": "stream",
     "text": [
      "PLINK v2.00a6 M1 (18 Aug 2024)                 www.cog-genomics.org/plink/2.0/\n",
      "(C) 2005-2024 Shaun Purcell, Christopher Chang   GNU General Public License v3\n",
      "Logging to data/gwas/direct/result.log.\n",
      "Options in effect:\n",
      "  --glm allow-no-covars hide-covar zs\n",
      "  --no-input-missing-phenotype\n",
      "  --out data/gwas/direct/result\n",
      "  --pfile ../../data/geno/ukb_wb_subsampled\n",
      "  --pheno data/pheno/rand_original_gwas.tsv\n",
      "\n",
      "Start time: Fri Nov 15 16:32:49 2024\n",
      "65536 MiB RAM detected; reserving 32768 MiB for main workspace.\n",
      "Using up to 16 threads (change this with --threads).\n",
      "429954 samples (232741 females, 197213 males; 429954 founders) loaded from\n",
      "../../data/geno/ukb_wb_subsampled.psam.\n",
      "10000 variants loaded from ../../data/geno/ukb_wb_subsampled.pvar.\n",
      "1000 phenotypes loaded (41 binary, 959 quantitative).\n",
      "Calculating allele frequencies... done.\n",
      "--glm linear regression on quantitative phenotypes #1-240: done.\n",
      "--glm linear regression on quantitative phenotypes #241-480: done.\n",
      "--glm linear regression on quantitative phenotypes #481-720: done.\n",
      "--glm linear regression on quantitative phenotypes #721-959: done.\n",
      "Results written to data/gwas/direct/result.<phenotype name>.glm.linear.zst .\n",
      "End time: Fri Nov 15 16:34:07 2024\n"
     ]
    },
    {
     "name": "stderr",
     "output_type": "stream",
     "text": [
      "Error: All samples for --glm phenotype 'mul_q_5074_7_q_3761_0' are controls.\n"
     ]
    }
   ],
   "source": [
    "command = \"\"\"\n",
    "plink2 \\\n",
    "  --pfile ../../data/geno/ukb_wb_subsampled \\\n",
    "  --pheno data/pheno/rand_original_gwas.tsv \\\n",
    "  --glm allow-no-covars hide-covar zs \\\n",
    "  --no-input-missing-phenotype \\\n",
    "  --out data/gwas/direct/result\n",
    "\"\"\"\n",
    "result = subprocess.run(shlex.split(command))"
   ]
  }
 ],
 "metadata": {
  "kernelspec": {
   "display_name": "Python 3 (ipykernel)",
   "language": "python",
   "name": "python3"
  },
  "language_info": {
   "codemirror_mode": {
    "name": "ipython",
    "version": 3
   },
   "file_extension": ".py",
   "mimetype": "text/x-python",
   "name": "python",
   "nbconvert_exporter": "python",
   "pygments_lexer": "ipython3",
   "version": "3.12.5"
  }
 },
 "nbformat": 4,
 "nbformat_minor": 5
}
