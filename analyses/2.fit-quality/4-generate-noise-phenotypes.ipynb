{
 "cells": [
  {
   "cell_type": "code",
   "execution_count": 1,
   "id": "ad958cb7-efd2-4c92-9b37-44162bca7e71",
   "metadata": {},
   "outputs": [],
   "source": [
    "import numpy as np\n",
    "import polars as pl\n",
    "import pandas as pd\n",
    "import tqdm.notebook as tqdm\n",
    "import pathlib\n",
    "import statsmodels.api as sm\n",
    "import subprocess\n",
    "import shlex"
   ]
  },
  {
   "cell_type": "code",
   "execution_count": 2,
   "id": "68ca5581-ff39-43cc-83f4-bdbdfa653d68",
   "metadata": {},
   "outputs": [],
   "source": [
    "pathlib.Path(\"data/pheno\").mkdir(exist_ok=True, parents=True)\n",
    "pathlib.Path(\"data/gwas-noise\").mkdir(exist_ok=True)"
   ]
  },
  {
   "cell_type": "markdown",
   "id": "dab052da-1ba8-47dd-9661-401a88dd5c63",
   "metadata": {},
   "source": [
    "# Generate and format all phenotypes"
   ]
  },
  {
   "cell_type": "code",
   "execution_count": null,
   "id": "23456268-5b36-4369-9dbb-710063ad74e1",
   "metadata": {},
   "outputs": [],
   "source": [
    "pheno_df = pl.read_csv(\"data/pheno/original.tsv\", separator=\"\\t\")\n",
    "print(\"Loaded existing data\")\n",
    "\n",
    "N = pheno_df.shape[0]\n",
    "n_per = 2\n",
    "\n",
    "features = sorted(pheno_df.drop([\"FID\", \"IID\"]).columns)\n",
    "n_features = len(features)\n",
    "\n",
    "np.random.seed(0)\n",
    "\n",
    "phenotype_definitions = list()\n",
    "for feature in tqdm.tqdm(features):\n",
    "    for i in range(1, n_per + 1):\n",
    "        std = pheno_df[feature].std() * np.random.beta(a=2, b=1)\n",
    "        noise = np.random.normal(scale=std, size=N)\n",
    "        new_phenotype = (pl.col(feature) + noise).alias(f\"{feature}_{i}\")\n",
    "        phenotype_definitions.append(new_phenotype)\n",
    "\n",
    "pheno_df = (\n",
    "    pheno_df\n",
    "    .lazy()\n",
    "    .select(\"FID\", \"IID\", *features, *phenotype_definitions)\n",
    "    .collect()\n",
    ")\n",
    "\n",
    "print(\"Saving phenotypes\")\n",
    "\n",
    "pheno_df.write_csv(\"data/pheno/noise_pheno.tsv\", separator=\"\\t\")\n",
    "\n",
    "pheno_df.head(0)"
   ]
  },
  {
   "cell_type": "markdown",
   "id": "888676ac-a141-425e-80b7-09ebd8011e2a",
   "metadata": {},
   "source": [
    "# Gather phenotype fits"
   ]
  },
  {
   "cell_type": "code",
   "execution_count": 79,
   "id": "39533128-3d29-4945-894f-764a49c9bf8a",
   "metadata": {},
   "outputs": [
    {
     "data": {
      "text/html": [
       "<div><style>\n",
       ".dataframe > thead > tr,\n",
       ".dataframe > tbody > tr {\n",
       "  text-align: right;\n",
       "  white-space: pre-wrap;\n",
       "}\n",
       "</style>\n",
       "<small>shape: (2, 3)</small><table border=\"1\" class=\"dataframe\"><thead><tr><th>underlying</th><th>i</th><th>rsq</th></tr><tr><td>str</td><td>i64</td><td>f64</td></tr></thead><tbody><tr><td>&quot;A04&quot;</td><td>1</td><td>0.249769</td></tr><tr><td>&quot;A04&quot;</td><td>2</td><td>0.073273</td></tr></tbody></table></div>"
      ],
      "text/plain": [
       "shape: (2, 3)\n",
       "┌────────────┬─────┬──────────┐\n",
       "│ underlying ┆ i   ┆ rsq      │\n",
       "│ ---        ┆ --- ┆ ---      │\n",
       "│ str        ┆ i64 ┆ f64      │\n",
       "╞════════════╪═════╪══════════╡\n",
       "│ A04        ┆ 1   ┆ 0.249769 │\n",
       "│ A04        ┆ 2   ┆ 0.073273 │\n",
       "└────────────┴─────┴──────────┘"
      ]
     },
     "execution_count": 79,
     "metadata": {},
     "output_type": "execute_result"
    }
   ],
   "source": [
    "def rsq(y, yhat):\n",
    "    rss = (y - yhat).pow(2).sum()\n",
    "    tss = (y - y.mean()).pow(2).sum().replace(0.0, 1.0)\n",
    "    r2 = 1.0 - rss / tss\n",
    "    return r2\n",
    "\n",
    "    \n",
    "pheno_fit_df = (\n",
    "    pheno_df\n",
    "    .lazy()\n",
    "    .select([\n",
    "        rsq(pl.col(feature), pl.col(f\"{feature}_{i+1}\")).alias(f\"{feature}_{i+1}\")\n",
    "        for feature in features for i in range(n_per)\n",
    "    ])\n",
    "    .unpivot(value_name=\"rsq\")\n",
    "    .with_columns(\n",
    "        pl.col(\"variable\").str.extract(\"^([A-Z][0-9]{2})\").alias(\"underlying\"),\n",
    "        pl.col(\"variable\").str.extract(\"_([0-9])$\").cast(pl.Int64).fill_null(0).alias(\"i\"),\n",
    "    )\n",
    "    .select(\"underlying\", \"i\", \"rsq\")\n",
    "    .collect()\n",
    ")\n",
    "\n",
    "pheno_fit_df.write_parquet(\"data/noise_pheno_fit.parquet\")\n",
    "\n",
    "pheno_fit_df.head(2)"
   ]
  },
  {
   "cell_type": "markdown",
   "id": "b02d26ec-7cac-47ce-ac44-9b4544b636f8",
   "metadata": {},
   "source": [
    "# Run GWAS"
   ]
  },
  {
   "cell_type": "code",
   "execution_count": 83,
   "id": "7d23f380-73be-4d23-9ead-d66c145a6121",
   "metadata": {},
   "outputs": [
    {
     "name": "stdout",
     "output_type": "stream",
     "text": [
      "PLINK v2.0.0-a.6.0LM AVX2 Intel (11 Nov 2024)      cog-genomics.org/plink/2.0/\n",
      "(C) 2005-2024 Shaun Purcell, Christopher Chang   GNU General Public License v3\n",
      "Logging to data/gwas-noise/result.log.\n",
      "Options in effect:\n",
      "  --glm zs hide-covar allow-no-covars\n",
      "  --no-input-missing-phenotype\n",
      "  --out data/gwas-noise/result\n",
      "  --pfile ../../data/geno/ukb_wb_subsampled\n",
      "  --pheno data/pheno/noise_pheno.tsv\n",
      "  --threads 100\n",
      "\n",
      "Start time: Tue Nov 26 09:40:31 2024\n",
      "1031943 MiB RAM detected, ~784971 available; reserving 515971 MiB for main\n",
      "workspace.\n",
      "Using up to 100 threads (change this with --threads).\n",
      "429954 samples (232741 females, 197213 males; 429954 founders) loaded from\n",
      "../../data/geno/ukb_wb_subsampled.psam.\n",
      "10000 variants loaded from ../../data/geno/ukb_wb_subsampled.pvar.\n",
      "2241 quantitative phenotypes loaded.\n",
      "Calculating allele frequencies... done.\n",
      "--glm linear regression on quantitative phenotypes #1-240: done.\n",
      "--glm linear regression on quantitative phenotypes #241-480: done.\n",
      "--glm linear regression on quantitative phenotypes #481-720: done.\n",
      "--glm linear regression on quantitative phenotypes #721-960: done.\n",
      "--glm linear regression on quantitative phenotypes #961-1200: done.\n",
      "--glm linear regression on quantitative phenotypes #1201-1440: done.\n",
      "--glm linear regression on quantitative phenotypes #1441-1680: done.\n",
      "--glm linear regression on quantitative phenotypes #1681-1920: done.\n",
      "--glm linear regression on quantitative phenotypes #1921-2160: done.\n",
      "--glm linear regression on quantitative phenotypes #2161-2241: done.\n",
      "Results written to data/gwas-noise/result.<phenotype name>.glm.linear.zst .\n",
      "End time: Tue Nov 26 09:51:52 2024\n"
     ]
    },
    {
     "data": {
      "text/plain": [
       "CompletedProcess(args=['plink2', '--pfile', '../../data/geno/ukb_wb_subsampled', '--pheno', 'data/pheno/noise_pheno.tsv', '--no-input-missing-phenotype', '--glm', 'zs', 'hide-covar', 'allow-no-covars', '--threads', '100', '--out', 'data/gwas-noise/result'], returncode=0)"
      ]
     },
     "execution_count": 83,
     "metadata": {},
     "output_type": "execute_result"
    }
   ],
   "source": [
    "command = \"\"\"\n",
    "plink2 \\\n",
    "    --pfile ../../data/geno/ukb_wb_subsampled \\\n",
    "    --pheno data/pheno/noise_pheno.tsv \\\n",
    "    --no-input-missing-phenotype \\\n",
    "    --glm zs hide-covar allow-no-covars \\\n",
    "    --threads 100 \\\n",
    "    --out data/gwas-noise/result\n",
    "\"\"\"\n",
    "subprocess.run(shlex.split(command))"
   ]
  },
  {
   "cell_type": "markdown",
   "id": "351346b1-66c0-4eca-a1f7-7845320ac453",
   "metadata": {},
   "source": [
    "# Gather GWAS"
   ]
  },
  {
   "cell_type": "code",
   "execution_count": 84,
   "id": "65451c59-079a-4173-a6ae-442000c2821e",
   "metadata": {},
   "outputs": [],
   "source": [
    "(\n",
    "    pl.scan_csv(\"data/gwas-noise/result*.zst\", separator=\"\\t\", glob=True, include_file_paths=\"path\")\n",
    "    .select(\n",
    "        pl.col(\"path\").str.strip_prefix(\"data/gwas-noise/result.\").str.strip_suffix(\".glm.linear.zst\"),\n",
    "        \"ID\", \"BETA\", \"SE\",\n",
    "        (pl.col(\"BETA\") / pl.col(\"SE\")).pow(2).alias(\"CHISQ\"),\n",
    "    )\n",
    "    .sink_parquet(\"data/gwas-noise/noise_results.parquet\")\n",
    ")"
   ]
  },
  {
   "cell_type": "code",
   "execution_count": 85,
   "id": "b1f58c9c-d2e9-4706-8987-fbfdf3629ce7",
   "metadata": {},
   "outputs": [
    {
     "data": {
      "text/html": [
       "<div><style>\n",
       ".dataframe > thead > tr,\n",
       ".dataframe > tbody > tr {\n",
       "  text-align: right;\n",
       "  white-space: pre-wrap;\n",
       "}\n",
       "</style>\n",
       "<small>shape: (2, 3)</small><table border=\"1\" class=\"dataframe\"><thead><tr><th>underlying</th><th>i</th><th>rsq</th></tr><tr><td>str</td><td>i64</td><td>f64</td></tr></thead><tbody><tr><td>&quot;A04&quot;</td><td>1</td><td>0.156914</td></tr><tr><td>&quot;A04&quot;</td><td>2</td><td>0.060265</td></tr></tbody></table></div>"
      ],
      "text/plain": [
       "shape: (2, 3)\n",
       "┌────────────┬─────┬──────────┐\n",
       "│ underlying ┆ i   ┆ rsq      │\n",
       "│ ---        ┆ --- ┆ ---      │\n",
       "│ str        ┆ i64 ┆ f64      │\n",
       "╞════════════╪═════╪══════════╡\n",
       "│ A04        ┆ 1   ┆ 0.156914 │\n",
       "│ A04        ┆ 2   ┆ 0.060265 │\n",
       "└────────────┴─────┴──────────┘"
      ]
     },
     "execution_count": 85,
     "metadata": {},
     "output_type": "execute_result"
    }
   ],
   "source": [
    "gwas_fit_df = (\n",
    "    pl.scan_parquet(\"data/gwas-noise/noise_results.parquet\")\n",
    "    .select(\"path\", \"ID\", \"CHISQ\")\n",
    "    .collect()\n",
    "    .pivot(on=\"path\", values=\"CHISQ\", index=\"ID\")\n",
    "    .lazy()\n",
    "    .select([\n",
    "        rsq(pl.col(feature), pl.col(f\"{feature}_{i+1}\")).alias(f\"{feature}_{i+1}\")\n",
    "        for feature in features for i in range(n_per)\n",
    "    ])\n",
    "    .unpivot(value_name=\"rsq\")\n",
    "    .with_columns(\n",
    "        pl.col(\"variable\").str.extract(\"^([A-Z][0-9]{2})\").alias(\"underlying\"),\n",
    "        pl.col(\"variable\").str.extract(\"_([0-9])$\").cast(pl.Int64).fill_null(0).alias(\"i\"),\n",
    "    )\n",
    "    .select(\"underlying\", \"i\", \"rsq\")\n",
    "    .collect()\n",
    ")\n",
    "\n",
    "gwas_fit_df.write_parquet(\"data/noise_gwas_fit.parquet\")\n",
    "\n",
    "gwas_fit_df.head(2)"
   ]
  }
 ],
 "metadata": {
  "kernelspec": {
   "display_name": "Python 3 (ipykernel)",
   "language": "python",
   "name": "python3"
  },
  "language_info": {
   "codemirror_mode": {
    "name": "ipython",
    "version": 3
   },
   "file_extension": ".py",
   "mimetype": "text/x-python",
   "name": "python",
   "nbconvert_exporter": "python",
   "pygments_lexer": "ipython3",
   "version": "3.12.7"
  }
 },
 "nbformat": 4,
 "nbformat_minor": 5
}
