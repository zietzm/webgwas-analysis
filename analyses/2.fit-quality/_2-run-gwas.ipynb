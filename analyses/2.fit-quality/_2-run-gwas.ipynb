{
 "cells": [
  {
   "cell_type": "code",
   "execution_count": 1,
   "id": "af0a81c1-c7ae-4645-8331-7a0fb2ac6a34",
   "metadata": {},
   "outputs": [],
   "source": [
    "import shlex\n",
    "import subprocess"
   ]
  },
  {
   "cell_type": "code",
   "execution_count": 2,
   "id": "e4444e44-4010-4478-a3a1-17c96da7dce8",
   "metadata": {},
   "outputs": [
    {
     "name": "stdout",
     "output_type": "stream",
     "text": [
      "PLINK v2.00a6 M1 (18 Aug 2024)                 www.cog-genomics.org/plink/2.0/\n",
      "(C) 2005-2024 Shaun Purcell, Christopher Chang   GNU General Public License v3\n",
      "Logging to data/gwas/plink.log.\n",
      "Options in effect:\n",
      "  --glm allow-no-covars zs\n",
      "  --out data/gwas/plink\n",
      "  --pfile /Volumes/Elements/ukbiobank/imputed_genotypes/hapmap3_variants_white_british\n",
      "  --pheno data/random_phenotypes.tsv\n",
      "  --read-freq /Volumes/Elements/ukbiobank/imputed_genotypes/hapmap3_variants_white_british.afreq.zst\n",
      "  --thin-count 100000\n",
      "\n",
      "Start time: Fri Aug 30 15:03:16 2024\n",
      "65536 MiB RAM detected; reserving 32768 MiB for main workspace.\n",
      "Using up to 16 threads (change this with --threads).\n",
      "429954 samples (232741 females, 197213 males; 429954 founders) loaded from\n",
      "/Volumes/Elements/ukbiobank/imputed_genotypes/hapmap3_variants_white_british.psam.\n",
      "1166145 variants loaded from\n",
      "/Volumes/Elements/ukbiobank/imputed_genotypes/hapmap3_variants_white_british.pvar.\n",
      "2000 quantitative phenotypes loaded.\n",
      "--thin-count: 1066145 variants removed (100000 remaining).\n",
      "--read-freq: PLINK 2 --freq file detected.\n",
      "--read-freq: Frequencies for 100000 variants loaded.\n"
     ]
    },
    {
     "name": "stderr",
     "output_type": "stream",
     "text": [
      "Warning: 1066145 entries skipped due to missing variant IDs, mismatching allele\n",
      "codes, and/or zero observations.\n"
     ]
    },
    {
     "name": "stdout",
     "output_type": "stream",
     "text": [
      "100000 variants remaining after main filters.\n",
      "--glm linear regression on quantitative phenotypes #1-240: 1113161922252830333639414447505356586164677073757881848789929598done.\n",
      "--glm linear regression on quantitative phenotypes #241-480: 1113161922252830333639414447505356586164677073757881848789929598done.\n",
      "--glm linear regression on quantitative phenotypes #481-720: 1113161922252830333639414447505356586164677073757881848789929598done.\n",
      "--glm linear regression on quantitative phenotypes #721-960: 1113161922252830333639414447505356586164677073757881848789929598done.\n",
      "--glm linear regression on quantitative phenotypes #961-1200: 1113161922252830333639414447505356586164677073757881848789929598done.\n",
      "--glm linear regression on quantitative phenotypes #1201-1440: 1113161922252830333639414447505356586164677073757881848789929598done.\n",
      "--glm linear regression on quantitative phenotypes #1441-1680: 1113161922252830333639414447505356586164677073757881848789929598done.\n",
      "--glm linear regression on quantitative phenotypes #1681-1920: 1113161922252830333639414447505356586164677073757881848789929598done.\n",
      "--glm linear regression on quantitative phenotypes #1921-2000: 1113161922252830333639414447505356586164677073757881848789929598done.\n",
      "Results written to data/gwas/plink.<phenotype name>.glm.linear.zst .\n",
      "End time: Fri Aug 30 17:03:11 2024\n"
     ]
    },
    {
     "data": {
      "text/plain": [
       "CompletedProcess(args=['plink2', '--pfile', '/Volumes/Elements/ukbiobank/imputed_genotypes/hapmap3_variants_white_british', '--pheno', 'data/random_phenotypes.tsv', '--read-freq', '/Volumes/Elements/ukbiobank/imputed_genotypes/hapmap3_variants_white_british.afreq.zst', '--glm', 'allow-no-covars', 'zs', '--thin-count', '100000', '--out', 'data/gwas/plink'], returncode=0)"
      ]
     },
     "execution_count": 2,
     "metadata": {},
     "output_type": "execute_result"
    }
   ],
   "source": [
    "command = \"\"\"\n",
    "plink2 \\\n",
    "    --pfile /Volumes/Elements/ukbiobank/imputed_genotypes/hapmap3_variants_white_british \\\n",
    "    --pheno data/random_phenotypes.tsv \\\n",
    "    --read-freq /Volumes/Elements/ukbiobank/imputed_genotypes/hapmap3_variants_white_british.afreq.zst \\\n",
    "    --glm allow-no-covars zs \\\n",
    "    --thin-count 100000 \\\n",
    "    --out data/gwas/plink\n",
    "\"\"\"\n",
    "\n",
    "subprocess.run(shlex.split(command))"
   ]
  }
 ],
 "metadata": {
  "kernelspec": {
   "display_name": "Python 3 (ipykernel)",
   "language": "python",
   "name": "python3"
  },
  "language_info": {
   "codemirror_mode": {
    "name": "ipython",
    "version": 3
   },
   "file_extension": ".py",
   "mimetype": "text/x-python",
   "name": "python",
   "nbconvert_exporter": "python",
   "pygments_lexer": "ipython3",
   "version": "3.11.9"
  }
 },
 "nbformat": 4,
 "nbformat_minor": 5
}
