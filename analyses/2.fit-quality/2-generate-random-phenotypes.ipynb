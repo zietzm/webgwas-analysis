{
 "cells": [
  {
   "cell_type": "code",
   "execution_count": 1,
   "id": "0abcc786-568a-45f9-be38-4cc6511f697b",
   "metadata": {},
   "outputs": [],
   "source": [
    "import pathlib\n",
    "from dataclasses import dataclass\n",
    "from functools import reduce\n",
    "\n",
    "import numpy as np\n",
    "import pandas as pd\n",
    "import polars as pl\n",
    "import tqdm.notebook as tqdm"
   ]
  },
  {
   "cell_type": "code",
   "execution_count": 2,
   "id": "0c5af042-fa62-43e7-bfd3-b811109acca4",
   "metadata": {},
   "outputs": [],
   "source": [
    "@dataclass\n",
    "class RandomPhenotype:\n",
    "    name: str\n",
    "    features: list[str]\n",
    "    operator: str\n",
    "\n",
    "def generate_random_phenotypes(features_df, n_random, seed):\n",
    "    feature_names = features_df.columns\n",
    "    results = list()\n",
    "    names = set()\n",
    "    np.random.seed(seed)\n",
    "    while len(results) < n_random:\n",
    "        operator = np.random.choice([\"and\", \"or\", \"mul\"], size=1).item()\n",
    "        selection = np.random.choice(feature_names, size=3, replace=False)\n",
    "        name = f\"{operator}_{selection[0]}_{selection[1]}\"\n",
    "        if name in names:\n",
    "            continue\n",
    "        names.add(name)\n",
    "        result = RandomPhenotype(\n",
    "            name=name,\n",
    "            features=selection,\n",
    "            operator=operator\n",
    "        )\n",
    "        results.append(result)\n",
    "    return results\n",
    "\n",
    "def apply_phenotypes(random_phenotypes, dataframe, check=False):\n",
    "    return dataframe.select([apply_phenotype(p) for p in random_phenotypes])\n",
    "\n",
    "def apply_phenotype(phenotype):\n",
    "    match phenotype.operator:\n",
    "        case \"and\":\n",
    "            return pl.min_horizontal(phenotype.features).alias(phenotype.name)\n",
    "        case \"or\":\n",
    "            return pl.max_horizontal(phenotype.features).alias(phenotype.name)\n",
    "        case \"mul\":\n",
    "            return reduce(lambda x, y: x * y, map(pl.col, phenotype.features)).alias(phenotype.name)\n",
    "        case \"add\":\n",
    "            return pl.sum_horizontal(phenotype.features).alias(phenotype.name)"
   ]
  },
  {
   "cell_type": "raw",
   "id": "7377a61c-ee7a-4e4c-b858-d3243d854fcb",
   "metadata": {},
   "source": [
    "n_random = 1000\n",
    "\n",
    "original_phenotypes_df = pl.read_csv(\"data/pheno/original.tsv\", separator=\"\\t\").drop(\"FID\", \"IID\").select(pl.all().sub(2))\n",
    "random_phenotypes = generate_random_phenotypes(original_phenotypes_df, n_random, seed=0)\n",
    "random_phenotypes_df = apply_phenotypes(random_phenotypes, original_phenotypes_df)\n",
    "output_path = f\"data/pheno/rand_original.tsv\"\n",
    "random_phenotypes_df.write_csv(output_path, separator=\"\\t\")\n",
    "\n",
    "anon_paths = sorted(pathlib.Path(\"data/pheno\").glob(\"anon_*.tsv\"))\n",
    "\n",
    "for anon_path in tqdm.tqdm(anon_paths):\n",
    "    anon_phenotypes_df = (\n",
    "        pl.read_csv(anon_path, separator=\"\\t\")\n",
    "        .drop(\"n_occurrences\")\n",
    "        .select(pl.all().sub(2))\n",
    "    )\n",
    "    anon_random_phenotypes_df = apply_phenotypes(random_phenotypes, anon_phenotypes_df)\n",
    "    output_path = f\"data/pheno/rand_{anon_path.stem}.tsv\"\n",
    "    anon_random_phenotypes_df.write_csv(output_path, separator=\"\\t\")"
   ]
  },
  {
   "cell_type": "code",
   "execution_count": 3,
   "id": "68348202-fe9a-4944-ad72-a7288df386d7",
   "metadata": {},
   "outputs": [
    {
     "data": {
      "application/vnd.jupyter.widget-view+json": {
       "model_id": "d721850a2b0d4d868c5a6b2c1e69bd63",
       "version_major": 2,
       "version_minor": 0
      },
      "text/plain": [
       "  0%|          | 0/4 [00:00<?, ?it/s]"
      ]
     },
     "metadata": {},
     "output_type": "display_data"
    }
   ],
   "source": [
    "n_random = 1000\n",
    "\n",
    "original_phenotypes_df = pl.read_csv(\"data/pheno/original.tsv\", separator=\"\\t\").drop(\"FID\", \"IID\")\n",
    "random_phenotypes = generate_random_phenotypes(original_phenotypes_df, n_random, seed=0)\n",
    "random_phenotypes_df = apply_phenotypes(random_phenotypes, original_phenotypes_df)\n",
    "output_path = f\"data/pheno/rand_original.tsv\"\n",
    "random_phenotypes_df.write_csv(output_path, separator=\"\\t\")\n",
    "\n",
    "anon_paths = sorted(pathlib.Path(\"data/pheno\").glob(\"anon_*.tsv\"))\n",
    "\n",
    "for anon_path in tqdm.tqdm(anon_paths):\n",
    "    anon_phenotypes_df = (\n",
    "        pl.read_csv(anon_path, separator=\"\\t\")\n",
    "        .drop(\"n_occurrences\")\n",
    "    )\n",
    "    anon_random_phenotypes_df = apply_phenotypes(random_phenotypes, anon_phenotypes_df)\n",
    "    output_path = f\"data/pheno/rand_{anon_path.stem}.tsv\"\n",
    "    anon_random_phenotypes_df.write_csv(output_path, separator=\"\\t\")"
   ]
  }
 ],
 "metadata": {
  "kernelspec": {
   "display_name": "Python 3 (ipykernel)",
   "language": "python",
   "name": "python3"
  },
  "language_info": {
   "codemirror_mode": {
    "name": "ipython",
    "version": 3
   },
   "file_extension": ".py",
   "mimetype": "text/x-python",
   "name": "python",
   "nbconvert_exporter": "python",
   "pygments_lexer": "ipython3",
   "version": "3.12.5"
  }
 },
 "nbformat": 4,
 "nbformat_minor": 5
}
