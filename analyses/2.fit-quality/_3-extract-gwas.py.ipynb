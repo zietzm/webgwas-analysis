{
 "cells": [
  {
   "cell_type": "code",
   "execution_count": 1,
   "id": "b61ad0e3-662f-4c8c-947c-f70719dc48aa",
   "metadata": {},
   "outputs": [],
   "source": [
    "import pathlib\n",
    "\n",
    "import pandas as pd\n",
    "import polars as pl\n",
    "import seaborn as sns\n",
    "import sklearn.linear_model\n",
    "import tqdm.notebook as tqdm"
   ]
  },
  {
   "cell_type": "markdown",
   "id": "dfad060e-f0fe-486c-802e-baa6acad1899",
   "metadata": {},
   "source": [
    "# Load all GWAS summary statistics"
   ]
  },
  {
   "cell_type": "code",
   "execution_count": 2,
   "id": "4ac3ff90-dc65-476c-bd14-f1c5bc7b4c3c",
   "metadata": {},
   "outputs": [
    {
     "data": {
      "application/vnd.jupyter.widget-view+json": {
       "model_id": "c491b9a3a62241b5b22f228a3928cef8",
       "version_major": 2,
       "version_minor": 0
      },
      "text/plain": [
       "  0%|          | 0/1000 [00:00<?, ?it/s]"
      ]
     },
     "metadata": {},
     "output_type": "display_data"
    },
    {
     "name": "stdout",
     "output_type": "stream",
     "text": [
      "(100000000, 4)\n"
     ]
    },
    {
     "data": {
      "text/html": [
       "<div><style>\n",
       ".dataframe > thead > tr,\n",
       ".dataframe > tbody > tr {\n",
       "  text-align: right;\n",
       "  white-space: pre-wrap;\n",
       "}\n",
       "</style>\n",
       "<small>shape: (2, 4)</small><table border=\"1\" class=\"dataframe\"><thead><tr><th>phenotype_id</th><th>variant_id</th><th>P_true</th><th>P_predicted</th></tr><tr><td>i32</td><td>str</td><td>f64</td><td>f64</td></tr></thead><tbody><tr><td>1</td><td>&quot;1:760912&quot;</td><td>0.1454</td><td>0.173682</td></tr><tr><td>1</td><td>&quot;1:853954&quot;</td><td>0.0505077</td><td>0.0477667</td></tr></tbody></table></div>"
      ],
      "text/plain": [
       "shape: (2, 4)\n",
       "┌──────────────┬────────────┬───────────┬─────────────┐\n",
       "│ phenotype_id ┆ variant_id ┆ P_true    ┆ P_predicted │\n",
       "│ ---          ┆ ---        ┆ ---       ┆ ---         │\n",
       "│ i32          ┆ str        ┆ f64       ┆ f64         │\n",
       "╞══════════════╪════════════╪═══════════╪═════════════╡\n",
       "│ 1            ┆ 1:760912   ┆ 0.1454    ┆ 0.173682    │\n",
       "│ 1            ┆ 1:853954   ┆ 0.0505077 ┆ 0.0477667   │\n",
       "└──────────────┴────────────┴───────────┴─────────────┘"
      ]
     },
     "execution_count": 2,
     "metadata": {},
     "output_type": "execute_result"
    }
   ],
   "source": [
    "root = pathlib.Path(\"data/gwas\")\n",
    "\n",
    "full_gwas_df = pl.DataFrame()\n",
    "\n",
    "for i in tqdm.tnrange(1, 1001):\n",
    "    random_path = root.joinpath(f\"plink.R{i}.glm.linear.zst\")\n",
    "    predicted_path = root.joinpath(f\"plink.PR{i}.glm.linear.zst\")\n",
    "    assert random_path.exists(), random_path\n",
    "    assert predicted_path.exists(), predicted_path\n",
    "\n",
    "    random_df = pl.read_csv(random_path, separator=\"\\t\", columns=[\"ID\", \"P\"])\n",
    "    predicted_df = pl.read_csv(predicted_path, separator=\"\\t\", columns=[\"ID\", \"P\"])\n",
    "    merged_df = (\n",
    "        random_df\n",
    "        .join(predicted_df, on=[\"ID\"], suffix=\"_predicted\")\n",
    "        .with_columns(pl.lit(i).alias(\"phenotype_id\"))\n",
    "    )\n",
    "    full_gwas_df = pl.concat([full_gwas_df, merged_df])\n",
    "\n",
    "full_gwas_df = (\n",
    "    full_gwas_df\n",
    "    .select(\"phenotype_id\", pl.col(\"ID\").alias(\"variant_id\"), pl.col(\"P\").alias(\"P_true\"), \"P_predicted\")\n",
    ")\n",
    "\n",
    "full_gwas_df.write_parquet(\"data/full_gwas.parquet\")\n",
    "\n",
    "print(full_gwas_df.shape)\n",
    "\n",
    "full_gwas_df.head(2)"
   ]
  }
 ],
 "metadata": {
  "kernelspec": {
   "display_name": "Python 3 (ipykernel)",
   "language": "python",
   "name": "python3"
  },
  "language_info": {
   "codemirror_mode": {
    "name": "ipython",
    "version": 3
   },
   "file_extension": ".py",
   "mimetype": "text/x-python",
   "name": "python",
   "nbconvert_exporter": "python",
   "pygments_lexer": "ipython3",
   "version": "3.11.9"
  }
 },
 "nbformat": 4,
 "nbformat_minor": 5
}
