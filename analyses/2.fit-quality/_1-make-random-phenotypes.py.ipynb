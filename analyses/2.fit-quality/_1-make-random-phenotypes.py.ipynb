{
 "cells": [
  {
   "cell_type": "code",
   "execution_count": null,
   "id": "30d656ce-7975-44be-b29d-25ff5cabeb1a",
   "metadata": {},
   "outputs": [],
   "source": [
    "import polars as pl\n",
    "import pandas as pd\n",
    "import numpy as np\n",
    "import sklearn.metrics\n",
    "import seaborn as sns"
   ]
  },
  {
   "cell_type": "code",
   "execution_count": null,
   "id": "374a5bbd-56d2-4bab-b056-eef36f4a61c7",
   "metadata": {},
   "outputs": [],
   "source": [
    "anon_pheno_df = pl.read_csv(\"../../../webgwas-data/ukb_wb_100k_reduced_anon/phenotype_data.csv.zst\")\n",
    "pheno_df = pl.read_csv(\"../../../webgwas-data/ukb_wb_100k_full/phenotype_data.csv\", separator=\"\\t\")\n",
    "assert pheno_df.drop(\"FID\", \"IID\").shape == anon_pheno_df.shape\n",
    "\n",
    "anon_features_df = anon_pheno_df.select(pl.all().sub(2)).to_pandas().assign(const=1.0)\n",
    "features_df = pheno_df.select(pl.all().exclude([\"FID\", \"IID\"]).sub(2).name.map(lambda x: x.lstrip(\"b_\"))).to_pandas().assign(const=1.0)\n",
    "\n",
    "anon_pheno_df.head(2)"
   ]
  },
  {
   "cell_type": "code",
   "execution_count": null,
   "id": "30b1b54d-a6c7-4563-8592-bbc47749a003",
   "metadata": {},
   "outputs": [],
   "source": [
    "N_random_phenotypes = 10000\n",
    "N_features_per_phenotype = 3\n",
    "\n",
    "random_phenotype_definitions = list()\n",
    "\n",
    "np.random.seed(0)\n",
    "while len(random_phenotype_definitions) < N_random_phenotypes:\n",
    "    selected_features = np.random.choice(features, size=N_features_per_phenotype, replace=False).tolist()\n",
    "    negations = np.random.binomial(1, 0.5, size=N_features_per_phenotype)\n",
    "    phenotype_definition = list()\n",
    "    for i, (feature, negated) in enumerate(zip(selected_features, negations)):\n",
    "        phenotype_definition.append(feature)\n",
    "        if negated:\n",
    "            phenotype_definition.append(NOT)\n",
    "        if i != 0:\n",
    "            phenotype_definition.append(AND)\n",
    "\n",
    "    phenotype_definition = webgwas.phenotype_definitions.validate_nodes(phenotype_definition, knowledge_base)\n",
    "    webgwas.phenotype_definitions.type_check_nodes(phenotype_definition)\n",
    "\n",
    "    phenotype_values = webgwas.phenotype_definitions.apply_definition_pandas(phenotype_definition, features_df)\n",
    "    if phenotype_values.drop_duplicates().shape[0] == 1:\n",
    "        continue\n",
    "        \n",
    "    random_phenotype_definitions.append(phenotype_definition)"
   ]
  },
  {
   "cell_type": "code",
   "execution_count": null,
   "id": "844e7512-ce5e-44e1-95c7-e581ab1e3524",
   "metadata": {
    "scrolled": true
   },
   "outputs": [],
   "source": [
    "# Actually applying the definitions to real phenotypes\n",
    "random_phenotypes_df = pd.DataFrame({\n",
    "    f\"R{i+1}\": webgwas.phenotype_definitions.apply_definition_pandas(defn, features_df)\n",
    "    for i, defn in enumerate(random_phenotype_definitions)\n",
    "})\n",
    "\n",
    "# Producing the phenotypes that are equivalent to what indirect GWAS would produce\n",
    "anon_random_phenotypes_df = pd.DataFrame({\n",
    "    f\"R{i+1}\": webgwas.phenotype_definitions.apply_definition_pandas(defn, anon_features_df)\n",
    "    for i, defn in enumerate(random_phenotype_definitions)\n",
    "})\n",
    "anon_left_inverse_df = webgwas.regression.compute_left_inverse(anon_features_df)\n",
    "anon_betas_df = anon_left_inverse_df @ anon_random_phenotypes_df\n",
    "anon_random_phenotypes_preds_df = anon_features_df @ anon_betas_df\n",
    "predicted_phenotypes_df = features_df @ anon_betas_df"
   ]
  },
  {
   "cell_type": "code",
   "execution_count": null,
   "id": "61aa47d4-4324-4fa7-998c-ae346ff0c70d",
   "metadata": {},
   "outputs": [],
   "source": [
    "anon_random_phenotypes_df.to_parquet(\"data/anon_random_phenotypes.parquet\")\n",
    "anon_random_phenotypes_preds_df.to_parquet(\"data/anon_random_phenotypes_pred.parquet\")"
   ]
  },
  {
   "cell_type": "code",
   "execution_count": null,
   "id": "91d143cc-879d-42c7-bd99-071688c5fb23",
   "metadata": {},
   "outputs": [],
   "source": [
    "gwas_pheno_df = (\n",
    "    pd.concat([\n",
    "        pheno_df.select(\"FID\", \"IID\").to_pandas(),\n",
    "        random_phenotypes_df,\n",
    "        predicted_phenotypes_df.rename(columns=lambda name: f\"P{name}\")\n",
    "    ], axis=1)\n",
    "    .pipe(pl.DataFrame)\n",
    "    .with_columns(pl.all().exclude(\"FID\", \"IID\").add(2).cast(pl.Float32))\n",
    ")\n",
    "\n",
    "assert gwas_pheno_df.drop([\"FID\", \"IID\"]).select(pl.all().n_unique()).transpose().select(pl.col(\"column_0\").min()).item() > 1\n",
    "\n",
    "gwas_pheno_df.write_csv(\"data/random_phenotypes.tsv\", separator=\"\\t\")"
   ]
  }
 ],
 "metadata": {
  "kernelspec": {
   "display_name": "Python 3 (ipykernel)",
   "language": "python",
   "name": "python3"
  },
  "language_info": {
   "codemirror_mode": {
    "name": "ipython",
    "version": 3
   },
   "file_extension": ".py",
   "mimetype": "text/x-python",
   "name": "python",
   "nbconvert_exporter": "python",
   "pygments_lexer": "ipython3",
   "version": "3.12.5"
  }
 },
 "nbformat": 4,
 "nbformat_minor": 5
}
