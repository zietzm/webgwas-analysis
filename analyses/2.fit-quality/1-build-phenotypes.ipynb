{
 "cells": [
  {
   "cell_type": "code",
   "execution_count": 1,
   "id": "fac1e70a-178e-440a-9cc1-edd98438a1ae",
   "metadata": {},
   "outputs": [],
   "source": [
    "import pathlib\n",
    "import tempfile\n",
    "import shutil\n",
    "import shlex\n",
    "import subprocess\n",
    "import os\n",
    "\n",
    "import numpy as np\n",
    "import pandas as pd\n",
    "from sklearn.linear_model import LinearRegression\n",
    "import tqdm.notebook as tqdm\n",
    "import polars as pl\n",
    "import polars.selectors as cs\n",
    "\n",
    "import webgwas_analysis.phecodes\n",
    "import webgwas_analysis.linearize"
   ]
  },
  {
   "cell_type": "code",
   "execution_count": 2,
   "id": "943c8a6b-1244-40d6-b262-58900090e3a9",
   "metadata": {},
   "outputs": [],
   "source": [
    "shutil.rmtree(\"data/pheno\", ignore_errors=True)\n",
    "pheno_path = pathlib.Path(\"data/pheno\")\n",
    "pheno_path.mkdir(exist_ok=True, parents=True)"
   ]
  },
  {
   "cell_type": "code",
   "execution_count": 3,
   "id": "8b047a11-1452-4c5a-a207-adf618b33a16",
   "metadata": {},
   "outputs": [],
   "source": [
    "def assert_is_plink_formatted(df: pl.DataFrame | pl.LazyFrame) -> None:\n",
    "    if isinstance(df, pl.DataFrame):\n",
    "        columns = df.columns\n",
    "        assert len(columns) > 2\n",
    "        code = columns[2]\n",
    "        values = df[code]\n",
    "    elif isinstance(df, pl.LazyFrame):\n",
    "        columns = df.collect_schema().names()\n",
    "        assert len(columns) > 2\n",
    "        code = columns[2]\n",
    "        values = df.select(code).collect()[code]\n",
    "    else:\n",
    "        raise ValueError(f\"Unknown type supplied: {df}\")\n",
    "        \n",
    "    assert columns[0] == \"#FID\"\n",
    "    assert columns[1] == \"IID\"\n",
    "    assert values.max() == 3\n",
    "    assert values.min() == 2"
   ]
  },
  {
   "cell_type": "markdown",
   "id": "0000e1e4-1e96-4498-a981-4e7197d650bd",
   "metadata": {},
   "source": [
    "# 3-letter, common ICD-10 codes"
   ]
  },
  {
   "cell_type": "code",
   "execution_count": 4,
   "id": "2d8bd5e4-9770-4be2-9591-691bbb2287ff",
   "metadata": {},
   "outputs": [
    {
     "name": "stdout",
     "output_type": "stream",
     "text": [
      "Keeping only 340 ICD codes after filtering\n"
     ]
    }
   ],
   "source": [
    "raw_icd_df = (\n",
    "    pl.scan_csv(\"../../data/pheno_jan2024.tsv\", separator=\"\\t\")\n",
    "    .head(100_000)\n",
    "    .select(\"#FID\", \"IID\", pl.col(\"^b_.+$\").sub(2).name.map(lambda x: x.replace(\"b_\", \"\")))\n",
    ")\n",
    "\n",
    "icd_codes = (\n",
    "    raw_icd_df\n",
    "    .select(pl.col(\"^[A-Z][0-9]{2}$\").sum())\n",
    "    .unpivot(variable_name=\"icd_code\", value_name=\"n_cases\")\n",
    "    .filter(pl.col(\"n_cases\").ge(1000))\n",
    "    .select(\"icd_code\")\n",
    "    .collect()\n",
    "    [\"icd_code\"]\n",
    "    .to_list()\n",
    ")\n",
    "print(f\"Keeping only {len(icd_codes)} ICD codes after filtering\")\n",
    "\n",
    "icd_df = raw_icd_df.select([\"#FID\", \"IID\"] + [pl.col(c).add(2) for c in icd_codes])\n",
    "icd_df.sink_csv(pheno_path / \"icd.tsv\", separator=\"\\t\", null_value=\"NA\")\n",
    "\n",
    "assert_is_plink_formatted(icd_df)"
   ]
  },
  {
   "cell_type": "markdown",
   "id": "892a40c6-4688-4b36-bb71-7cdbe14b0ebf",
   "metadata": {},
   "source": [
    "# Anonymize data"
   ]
  },
  {
   "cell_type": "code",
   "execution_count": 5,
   "id": "c141a868-73f8-48c2-818b-b84aae6f9d57",
   "metadata": {},
   "outputs": [],
   "source": [
    "def anonymize(dataframe, k):\n",
    "    with tempfile.TemporaryDirectory() as tmp_dir:\n",
    "        tmp_dir = pathlib.Path(tmp_dir)\n",
    "        input_path = tmp_dir.joinpath(\"input.csv\")\n",
    "        dataframe.drop(\"#FID\", \"IID\").write_csv(input_path)\n",
    "        output_path = tmp_dir.joinpath(\"output.csv\")\n",
    "        run_mdav(input_path, output_path, k=k)\n",
    "        df = pl.read_csv(output_path, infer_schema_length=10000)\n",
    "    return df\n",
    "\n",
    "def run_mdav(input_path, output_path, k):\n",
    "    env = os.environ.copy()\n",
    "    env[\"RAYON_NUM_THREADS\"] = \"15\"\n",
    "    command = f\"mdav -i {input_path.as_posix()} -o {output_path.as_posix()} -k {k} --just-centroids --precision 32\"\n",
    "    result = subprocess.run(shlex.split(command), env=env)\n",
    "    result.check_returncode()"
   ]
  },
  {
   "cell_type": "code",
   "execution_count": 6,
   "id": "e8ffee05-5f2a-4668-b606-635affec9685",
   "metadata": {},
   "outputs": [
    {
     "data": {
      "application/vnd.jupyter.widget-view+json": {
       "model_id": "5fa86b58082c49f492da1386c6423486",
       "version_major": 2,
       "version_minor": 0
      },
      "text/plain": [
       "  0%|          | 0/6 [00:00<?, ?it/s]"
      ]
     },
     "metadata": {},
     "output_type": "display_data"
    }
   ],
   "source": [
    "icd_df = pl.read_csv(pheno_path / \"icd.tsv\", separator=\"\\t\", null_values=[\"NA\"])\n",
    "\n",
    "# IMPORTANT! This is where k-values for anonymization are defined (and only here!)\n",
    "# k_values = [1000]  # Use this for testing because it's WAY faster\n",
    "k_values = [5, 10, 15, 20, 50, 100]\n",
    "\n",
    "for k in tqdm.tqdm(k_values):\n",
    "    anonymized_data = (\n",
    "        anonymize(icd_df, k=k)\n",
    "        .drop(\"n_occurrences\")\n",
    "    )\n",
    "    webgwas_analysis.phecodes.check_phenotype_ranges(anonymized_data, min_=2, max_=3)\n",
    "    anonymized_data.write_csv(pheno_path / f\"anon_icd_{k:04}.tsv\", separator=\"\\t\")"
   ]
  },
  {
   "cell_type": "markdown",
   "id": "26b291c6-b7b1-4f67-8ef5-2fe0284d5100",
   "metadata": {},
   "source": [
    "# Phecodes"
   ]
  },
  {
   "cell_type": "code",
   "execution_count": 7,
   "id": "f96da488-c71a-4c34-bca2-17d61256f755",
   "metadata": {},
   "outputs": [
    {
     "name": "stdout",
     "output_type": "stream",
     "text": [
      "Loaded 1873 phecodes\n",
      "Filtered to 144 phecodes\n"
     ]
    }
   ],
   "source": [
    "phecodes = webgwas_analysis.phecodes.load_definitions(\n",
    "    \"../../data/phecodes/phecode_definitions1.2.csv\",\n",
    "    \"../../data/phecodes/Phecode_map_v1_2_icd9_icd10cm_09_30_2024.csv\"\n",
    ")\n",
    "print(f\"Loaded {len(phecodes)} phecodes\")\n",
    "\n",
    "phecodes = webgwas_analysis.phecodes.filter_definitions(phecodes, icd_codes)\n",
    "print(f\"Filtered to {len(phecodes)} phecodes\")"
   ]
  },
  {
   "cell_type": "code",
   "execution_count": 8,
   "id": "584950cf-edf6-4a6c-b104-92d8f5376a77",
   "metadata": {},
   "outputs": [
    {
     "name": "stdout",
     "output_type": "stream",
     "text": [
      "Filtered to 140 phecodes with >= 10 cases\n"
     ]
    }
   ],
   "source": [
    "# Non-anonymized phecodes\n",
    "icd_df = (\n",
    "    pl.read_csv(pheno_path / f\"icd.tsv\", separator=\"\\t\", null_values=[\"NA\"])\n",
    "    .with_columns(\"#FID\", \"IID\", pl.all().exclude(\"#FID\", \"IID\").sub(2))\n",
    ")\n",
    "\n",
    "min_n_cases = 10\n",
    "phecode_df = (\n",
    "    webgwas_analysis.phecodes.apply_definitions_fuzzy(\n",
    "        definitions=phecodes, \n",
    "        icd_df=icd_df.drop([\"#FID\", \"IID\"])\n",
    "    )\n",
    "    .pipe(lambda df: webgwas_analysis.phecodes.filter_phenotypes(df, min_n_cases=min_n_cases))\n",
    "    .select(pl.all().add(2))\n",
    "    .pipe(lambda df: pl.concat([icd_df.select(\"#FID\", \"IID\"), df], how=\"horizontal\"))\n",
    ")\n",
    "print(f\"Filtered to {phecode_df.shape[1] - 2} phecodes with >= {min_n_cases} cases\")\n",
    "assert_is_plink_formatted(phecode_df)\n",
    "phecode_df.write_csv(pheno_path / \"phecodes.tsv\", separator=\"\\t\", null_value=\"NA\")"
   ]
  },
  {
   "cell_type": "code",
   "execution_count": 9,
   "id": "35e8247c-e72a-4349-8c5a-b6074c611119",
   "metadata": {},
   "outputs": [
    {
     "data": {
      "application/vnd.jupyter.widget-view+json": {
       "model_id": "3dfc87f4892245049147a69a42b781f5",
       "version_major": 2,
       "version_minor": 0
      },
      "text/plain": [
       "  0%|          | 0/6 [00:00<?, ?it/s]"
      ]
     },
     "metadata": {},
     "output_type": "display_data"
    }
   ],
   "source": [
    "# Apply phecode definitions in anonymized data\n",
    "for k in tqdm.tqdm(k_values):\n",
    "    icd_df = (\n",
    "        pl.read_csv(pheno_path / f\"anon_icd_{k:04}.tsv\", separator=\"\\t\", null_values=[\"NA\"])\n",
    "        .with_columns(pl.all().sub(2))\n",
    "    )\n",
    "    assert \"#FID\" not in icd_df.columns\n",
    "    assert \"IID\" not in icd_df.columns\n",
    "\n",
    "    min_n_cases = 10\n",
    "    phecode_df = (\n",
    "        webgwas_analysis.phecodes.apply_definitions_fuzzy(\n",
    "            definitions=phecodes, \n",
    "            icd_df=icd_df\n",
    "        )\n",
    "        .select(pl.all().add(2))\n",
    "    )\n",
    "    webgwas_analysis.phecodes.check_phenotype_ranges(phecode_df, min_=2, max_=3)\n",
    "    phecode_df.write_csv(pheno_path / f\"anon_phecodes_{k:04}.tsv\", separator=\"\\t\", null_value=\"NA\")"
   ]
  },
  {
   "cell_type": "markdown",
   "id": "1a5905f3-4f2a-4dca-bc20-56bc2bd1b00b",
   "metadata": {},
   "source": [
    "# Random Boolean combinations\n",
    "\n",
    "1000 random pairs\n",
    "\n",
    "For each pair (x, y), add `x AND y`, `x OR y`, `x AND NOT y`."
   ]
  },
  {
   "cell_type": "code",
   "execution_count": 10,
   "id": "f6f7fb55-4b7d-4071-97d4-98fdda91017c",
   "metadata": {},
   "outputs": [],
   "source": [
    "N_random_combos = 100\n",
    "\n",
    "np.random.seed(0)\n",
    "\n",
    "unique_combos = set()\n",
    "boolean_phenos = list()\n",
    "fuzzy_phenos = list()\n",
    "\n",
    "while len(unique_combos) < N_random_combos:\n",
    "    a, b = np.random.choice(icd_codes, size=2, replace=False)\n",
    "    if (a, b) in unique_combos or (b, a) in unique_combos:\n",
    "        continue\n",
    "\n",
    "    unique_combos.add((a, b))\n",
    "    \n",
    "    and_pheno = pl.col(a).and_(pl.col(b)).alias(f\"and_{a}_{b}\")\n",
    "    or_pheno = pl.col(a).or_(pl.col(b)).alias(f\"or_{a}_{b}\")\n",
    "    not_pheno = pl.col(a).and_(pl.col(b).not_()).alias(f\"not_{a}_{b}\")\n",
    "    boolean_phenos.extend([and_pheno, or_pheno, not_pheno])\n",
    "\n",
    "\n",
    "    and_pheno = pl.min_horizontal(pl.col(a), pl.col(b)).alias(f\"and_{a}_{b}\")\n",
    "    or_pheno = pl.max_horizontal(pl.col(a), pl.col(b)).alias(f\"or_{a}_{b}\")\n",
    "    not_pheno = pl.min_horizontal(pl.col(a), pl.lit(1.0) - pl.col(b)).alias(f\"not_{a}_{b}\")\n",
    "    fuzzy_phenos.extend([and_pheno, or_pheno, not_pheno])"
   ]
  },
  {
   "cell_type": "code",
   "execution_count": 11,
   "id": "d266cafa-e707-4fc8-82a3-5396f30d2f30",
   "metadata": {},
   "outputs": [],
   "source": [
    "boolean_df = (\n",
    "    pl.scan_csv(pheno_path / \"icd.tsv\", separator=\"\\t\")\n",
    "    .select(\"#FID\", \"IID\", pl.col(\"^[A-Z][0-9]{2}$\").sub(2))\n",
    "    .select([\"#FID\", \"IID\"] + [p + 2 for p in boolean_phenos])\n",
    ")\n",
    "boolean_df.sink_csv(pheno_path / \"boolean.tsv\", separator=\"\\t\", null_value=\"NA\")\n",
    "assert_is_plink_formatted(boolean_df)"
   ]
  },
  {
   "cell_type": "code",
   "execution_count": 12,
   "id": "34ab8ab6-20bc-4015-88df-7b77506840ba",
   "metadata": {},
   "outputs": [
    {
     "data": {
      "application/vnd.jupyter.widget-view+json": {
       "model_id": "77148e2065534a568e949c294842de8e",
       "version_major": 2,
       "version_minor": 0
      },
      "text/plain": [
       "  0%|          | 0/6 [00:00<?, ?it/s]"
      ]
     },
     "metadata": {},
     "output_type": "display_data"
    }
   ],
   "source": [
    "for k in tqdm.tqdm(k_values):\n",
    "    boolean_df = (\n",
    "        pl.scan_csv(pheno_path / f\"anon_icd_{k:04}.tsv\", separator=\"\\t\")\n",
    "        .select(pl.col(\"^[A-Z][0-9]{2}$\").sub(2))\n",
    "        .select([p + 2 for p in fuzzy_phenos])\n",
    "        .collect()\n",
    "    )\n",
    "    boolean_df.write_csv(pheno_path / f\"anon_boolean_{k:04}.tsv\", separator=\"\\t\", null_value=\"NA\")"
   ]
  },
  {
   "cell_type": "markdown",
   "id": "896dcf08-7c69-4bed-922d-529ae2b4269f",
   "metadata": {},
   "source": [
    "# Approximated\n",
    "\n",
    "Helper functions below are to reduce errors that occur from having too many variables in scope.\n",
    "\n",
    "At a high level, what we're doing here is linearizing Phecodes and Boolean phenotypes. For \n",
    "non-anonymized data, this is just a regression like `phecode ~ icd_codes`, and we're taking the\n",
    "predictions as the linearized phenotypes. For anonymized data, we're doing this regression in \n",
    "anonymized data (smaller data, no FID/IID available), then evaluating the coefficients in the \n",
    "original data to get full-size phenotypes. The only real difference is that coefficients from\n",
    "regressions in anonymized data will be a bit noisier than those in the original data."
   ]
  },
  {
   "cell_type": "code",
   "execution_count": 13,
   "id": "47dc1436-7337-42c9-812e-2b1dc197345c",
   "metadata": {},
   "outputs": [],
   "source": [
    "def approx_original(feature_path, target_path, output_path):\n",
    "    feature_df = pl.scan_csv(feature_path, separator=\"\\t\", null_values=[\"NA\"])\n",
    "    target_df = pl.scan_csv(target_path, separator=\"\\t\", null_values=[\"NA\"])\n",
    "    \n",
    "    features = feature_df.drop(\"#FID\", \"IID\").collect_schema().names()\n",
    "    targets = target_df.drop(\"#FID\", \"IID\").collect_schema().names()\n",
    "    \n",
    "    merged_df = (\n",
    "        feature_df\n",
    "        .join(target_df, on=[\"#FID\", \"IID\"])\n",
    "        .collect()\n",
    "    )\n",
    "    \n",
    "    approx_df = (\n",
    "        webgwas_analysis.linearize.approximate_all(\n",
    "            df=merged_df,\n",
    "            endogs=targets,\n",
    "            exogs=features,\n",
    "        )\n",
    "        .pipe(lambda df: pl.concat([merged_df.select(\"#FID\", \"IID\"), df], how=\"horizontal\"))\n",
    "    )\n",
    "    assert approx_df.shape[0] == merged_df.shape[0]\n",
    "    approx_df.write_csv(output_path, separator=\"\\t\", null_value=\"NA\")"
   ]
  },
  {
   "cell_type": "code",
   "execution_count": 14,
   "id": "8b99dbc4-cdf2-4818-af4b-b7cebdf48a9e",
   "metadata": {},
   "outputs": [],
   "source": [
    "def approx_anon(method, k_values):\n",
    "    full_icd_df = pl.read_csv(pheno_path / \"icd.tsv\", separator=\"\\t\", null_values=[\"NA\"])\n",
    "    \n",
    "    for k in tqdm.tqdm(k_values):\n",
    "        feature_df = pl.read_csv(pheno_path / f\"anon_icd_{k:04}.tsv\", separator=\"\\t\", null_values=[\"NA\"])\n",
    "        target_df = pl.read_csv(pheno_path / f\"anon_{method}_{k:04}.tsv\", separator=\"\\t\", null_values=[\"NA\"])\n",
    "        assert feature_df.shape[0] == target_df.shape[0]\n",
    "        \n",
    "        features = feature_df.columns\n",
    "        targets = target_df.columns\n",
    "        shared_columns = set(features).intersection(targets)\n",
    "        assert len(shared_columns) == 0\n",
    "        \n",
    "        merged_df = pl.concat([feature_df, target_df], how=\"horizontal\")\n",
    "        \n",
    "        approx_df = (\n",
    "            webgwas_analysis.linearize.approximate_all(\n",
    "                df=merged_df,\n",
    "                endogs=targets,\n",
    "                exogs=features,\n",
    "                eval_df=full_icd_df.drop([\"#FID\", \"IID\"]),\n",
    "            )\n",
    "            .pipe(lambda df: pl.concat([full_icd_df.select(\"#FID\", \"IID\"), df], how=\"horizontal\"))\n",
    "        )\n",
    "        assert approx_df.shape[0] == full_icd_df.shape[0]\n",
    "        approx_df.write_csv(pheno_path / f\"approx_anon_{method}_{k:04}.tsv\", separator=\"\\t\", null_value=\"NA\")"
   ]
  },
  {
   "cell_type": "markdown",
   "id": "7b744678-0f02-4292-9565-297478571880",
   "metadata": {},
   "source": [
    "## Phecodes"
   ]
  },
  {
   "cell_type": "code",
   "execution_count": 15,
   "id": "cd72adfb-bf61-4e16-8e87-225e99d1b2a0",
   "metadata": {},
   "outputs": [],
   "source": [
    "approx_original(pheno_path / \"icd.tsv\", pheno_path / \"phecodes.tsv\", pheno_path / \"approx_phecodes.tsv\")"
   ]
  },
  {
   "cell_type": "code",
   "execution_count": 16,
   "id": "35d14c8d-9201-4d60-8445-03c4b36c2daa",
   "metadata": {},
   "outputs": [
    {
     "data": {
      "application/vnd.jupyter.widget-view+json": {
       "model_id": "ba87ddbf62bc47f78b69ae7f94eda83a",
       "version_major": 2,
       "version_minor": 0
      },
      "text/plain": [
       "  0%|          | 0/6 [00:00<?, ?it/s]"
      ]
     },
     "metadata": {},
     "output_type": "display_data"
    }
   ],
   "source": [
    "approx_anon(\"phecodes\", k_values)"
   ]
  },
  {
   "cell_type": "markdown",
   "id": "ada8a867-e652-4ee5-b149-759e966d7d9c",
   "metadata": {},
   "source": [
    "# Approximated booleans"
   ]
  },
  {
   "cell_type": "code",
   "execution_count": 17,
   "id": "d8f91ae2-df35-4eea-9fc5-49e9a23cf046",
   "metadata": {},
   "outputs": [],
   "source": [
    "approx_original(pheno_path / \"icd.tsv\", pheno_path / \"boolean.tsv\", pheno_path / \"approx_boolean.tsv\")"
   ]
  },
  {
   "cell_type": "code",
   "execution_count": 18,
   "id": "db485289-36b9-4a00-89ba-7940b2ddccc2",
   "metadata": {},
   "outputs": [
    {
     "data": {
      "application/vnd.jupyter.widget-view+json": {
       "model_id": "53e04560735e492ba2dd6d1dbf59d9c3",
       "version_major": 2,
       "version_minor": 0
      },
      "text/plain": [
       "  0%|          | 0/6 [00:00<?, ?it/s]"
      ]
     },
     "metadata": {},
     "output_type": "display_data"
    }
   ],
   "source": [
    "approx_anon(\"boolean\", k_values)"
   ]
  }
 ],
 "metadata": {
  "kernelspec": {
   "display_name": "Python 3 (ipykernel)",
   "language": "python",
   "name": "python3"
  },
  "language_info": {
   "codemirror_mode": {
    "name": "ipython",
    "version": 3
   },
   "file_extension": ".py",
   "mimetype": "text/x-python",
   "name": "python",
   "nbconvert_exporter": "python",
   "pygments_lexer": "ipython3",
   "version": "3.12.7"
  }
 },
 "nbformat": 4,
 "nbformat_minor": 5
}
