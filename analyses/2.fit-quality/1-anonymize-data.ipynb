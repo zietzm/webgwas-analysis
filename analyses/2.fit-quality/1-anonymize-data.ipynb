{
 "cells": [
  {
   "cell_type": "code",
   "execution_count": 1,
   "id": "886c3489-1343-4a34-87d6-6635955f28b5",
   "metadata": {},
   "outputs": [],
   "source": [
    "import os\n",
    "import pathlib\n",
    "import shlex\n",
    "import subprocess\n",
    "import tempfile\n",
    "\n",
    "import polars as pl\n",
    "import tqdm.notebook as tqdm"
   ]
  },
  {
   "cell_type": "code",
   "execution_count": 2,
   "id": "1fc3926a-b3a1-46f2-8784-5b0e6dc82e6d",
   "metadata": {},
   "outputs": [],
   "source": [
    "pheno_dir = pathlib.Path(\"data/pheno\")\n",
    "pheno_dir.mkdir(exist_ok=True, parents=True)"
   ]
  },
  {
   "cell_type": "code",
   "execution_count": 3,
   "id": "464299cf-86ca-46dc-99cf-e42f8423a872",
   "metadata": {},
   "outputs": [
    {
     "data": {
      "text/html": [
       "<div><style>\n",
       ".dataframe > thead > tr,\n",
       ".dataframe > tbody > tr {\n",
       "  text-align: right;\n",
       "  white-space: pre-wrap;\n",
       "}\n",
       "</style>\n",
       "<small>shape: (0, 2_640)</small><table border=\"1\" class=\"dataframe\"><thead><tr><th>#FID</th><th>IID</th><th>q_46_0</th><th>q_47_0</th><th>q_48_0</th><th>q_49_0</th><th>q_50_0</th><th>q_51_0</th><th>q_78_0</th><th>q_102_0</th><th>q_102_1</th><th>q_134_0</th><th>q_135_0</th><th>q_136_0</th><th>q_137_0</th><th>q_699_0</th><th>q_709_0</th><th>q_757_0</th><th>q_767_0</th><th>q_777_0</th><th>q_796_0</th><th>q_845_0</th><th>q_864_0</th><th>q_874_0</th><th>q_884_0</th><th>q_894_0</th><th>q_904_0</th><th>q_914_0</th><th>q_1050_0</th><th>q_1060_0</th><th>q_1070_0</th><th>q_1080_0</th><th>q_1090_0</th><th>q_1160_0</th><th>q_1269_0</th><th>q_1279_0</th><th>q_1289_0</th><th>&hellip;</th><th>b_Z50</th><th>b_Z51</th><th>b_Z52</th><th>b_Z53</th><th>b_Z54</th><th>b_Z56</th><th>b_Z57</th><th>b_Z58</th><th>b_Z59</th><th>b_Z60</th><th>b_Z63</th><th>b_Z71</th><th>b_Z72</th><th>b_Z73</th><th>b_Z74</th><th>b_Z75</th><th>b_Z76</th><th>b_Z80</th><th>b_Z81</th><th>b_Z82</th><th>b_Z83</th><th>b_Z84</th><th>b_Z85</th><th>b_Z86</th><th>b_Z87</th><th>b_Z88</th><th>b_Z89</th><th>b_Z90</th><th>b_Z91</th><th>b_Z92</th><th>b_Z93</th><th>b_Z94</th><th>b_Z95</th><th>b_Z96</th><th>b_Z97</th><th>b_Z98</th><th>b_Z99</th></tr><tr><td>i64</td><td>i64</td><td>f64</td><td>f64</td><td>f64</td><td>f64</td><td>f64</td><td>f64</td><td>f64</td><td>f64</td><td>f64</td><td>f64</td><td>f64</td><td>f64</td><td>f64</td><td>f64</td><td>f64</td><td>f64</td><td>f64</td><td>f64</td><td>f64</td><td>f64</td><td>f64</td><td>f64</td><td>f64</td><td>f64</td><td>f64</td><td>f64</td><td>f64</td><td>f64</td><td>f64</td><td>f64</td><td>f64</td><td>f64</td><td>f64</td><td>f64</td><td>f64</td><td>&hellip;</td><td>i64</td><td>i64</td><td>i64</td><td>i64</td><td>i64</td><td>i64</td><td>i64</td><td>i64</td><td>i64</td><td>i64</td><td>i64</td><td>i64</td><td>i64</td><td>i64</td><td>i64</td><td>i64</td><td>i64</td><td>i64</td><td>i64</td><td>i64</td><td>i64</td><td>i64</td><td>i64</td><td>i64</td><td>i64</td><td>i64</td><td>i64</td><td>i64</td><td>i64</td><td>i64</td><td>i64</td><td>i64</td><td>i64</td><td>i64</td><td>i64</td><td>i64</td><td>i64</td></tr></thead><tbody></tbody></table></div>"
      ],
      "text/plain": [
       "shape: (0, 2_640)\n",
       "┌──────┬─────┬────────┬────────┬───┬───────┬───────┬───────┬───────┐\n",
       "│ #FID ┆ IID ┆ q_46_0 ┆ q_47_0 ┆ … ┆ b_Z96 ┆ b_Z97 ┆ b_Z98 ┆ b_Z99 │\n",
       "│ ---  ┆ --- ┆ ---    ┆ ---    ┆   ┆ ---   ┆ ---   ┆ ---   ┆ ---   │\n",
       "│ i64  ┆ i64 ┆ f64    ┆ f64    ┆   ┆ i64   ┆ i64   ┆ i64   ┆ i64   │\n",
       "╞══════╪═════╪════════╪════════╪═══╪═══════╪═══════╪═══════╪═══════╡\n",
       "└──────┴─────┴────────┴────────┴───┴───────┴───────┴───────┴───────┘"
      ]
     },
     "execution_count": 3,
     "metadata": {},
     "output_type": "execute_result"
    }
   ],
   "source": [
    "raw_pheno_df = pl.read_csv(\"../../data/pheno_jan2024.tsv\", separator=\"\\t\")\n",
    "\n",
    "raw_pheno_df.head(0)"
   ]
  },
  {
   "cell_type": "code",
   "execution_count": 4,
   "id": "a75a7982-4b56-446d-8e50-a3bca87fd52e",
   "metadata": {},
   "outputs": [
    {
     "name": "stdout",
     "output_type": "stream",
     "text": [
      "(300000, 749)\n"
     ]
    },
    {
     "data": {
      "text/html": [
       "<div><style>\n",
       ".dataframe > thead > tr,\n",
       ".dataframe > tbody > tr {\n",
       "  text-align: right;\n",
       "  white-space: pre-wrap;\n",
       "}\n",
       "</style>\n",
       "<small>shape: (0, 749)</small><table border=\"1\" class=\"dataframe\"><thead><tr><th>FID</th><th>IID</th><th>A04</th><th>A08</th><th>A09</th><th>A15</th><th>A37</th><th>A38</th><th>A41</th><th>A49</th><th>A63</th><th>B00</th><th>B01</th><th>B02</th><th>B05</th><th>B06</th><th>B07</th><th>B08</th><th>B15</th><th>B19</th><th>B26</th><th>B27</th><th>B34</th><th>B35</th><th>B36</th><th>B37</th><th>B86</th><th>B95</th><th>B96</th><th>B97</th><th>B98</th><th>B99</th><th>C15</th><th>C16</th><th>C18</th><th>C19</th><th>C20</th><th>&hellip;</th><th>Z40</th><th>Z41</th><th>Z42</th><th>Z43</th><th>Z45</th><th>Z46</th><th>Z47</th><th>Z48</th><th>Z50</th><th>Z51</th><th>Z53</th><th>Z57</th><th>Z60</th><th>Z63</th><th>Z71</th><th>Z72</th><th>Z73</th><th>Z74</th><th>Z75</th><th>Z80</th><th>Z82</th><th>Z83</th><th>Z85</th><th>Z86</th><th>Z87</th><th>Z88</th><th>Z89</th><th>Z90</th><th>Z91</th><th>Z92</th><th>Z93</th><th>Z94</th><th>Z95</th><th>Z96</th><th>Z97</th><th>Z98</th><th>Z99</th></tr><tr><td>i64</td><td>i64</td><td>i64</td><td>i64</td><td>i64</td><td>i64</td><td>i64</td><td>i64</td><td>i64</td><td>i64</td><td>i64</td><td>i64</td><td>i64</td><td>i64</td><td>i64</td><td>i64</td><td>i64</td><td>i64</td><td>i64</td><td>i64</td><td>i64</td><td>i64</td><td>i64</td><td>i64</td><td>i64</td><td>i64</td><td>i64</td><td>i64</td><td>i64</td><td>i64</td><td>i64</td><td>i64</td><td>i64</td><td>i64</td><td>i64</td><td>i64</td><td>i64</td><td>&hellip;</td><td>i64</td><td>i64</td><td>i64</td><td>i64</td><td>i64</td><td>i64</td><td>i64</td><td>i64</td><td>i64</td><td>i64</td><td>i64</td><td>i64</td><td>i64</td><td>i64</td><td>i64</td><td>i64</td><td>i64</td><td>i64</td><td>i64</td><td>i64</td><td>i64</td><td>i64</td><td>i64</td><td>i64</td><td>i64</td><td>i64</td><td>i64</td><td>i64</td><td>i64</td><td>i64</td><td>i64</td><td>i64</td><td>i64</td><td>i64</td><td>i64</td><td>i64</td><td>i64</td></tr></thead><tbody></tbody></table></div>"
      ],
      "text/plain": [
       "shape: (0, 749)\n",
       "┌─────┬─────┬─────┬─────┬───┬─────┬─────┬─────┬─────┐\n",
       "│ FID ┆ IID ┆ A04 ┆ A08 ┆ … ┆ Z96 ┆ Z97 ┆ Z98 ┆ Z99 │\n",
       "│ --- ┆ --- ┆ --- ┆ --- ┆   ┆ --- ┆ --- ┆ --- ┆ --- │\n",
       "│ i64 ┆ i64 ┆ i64 ┆ i64 ┆   ┆ i64 ┆ i64 ┆ i64 ┆ i64 │\n",
       "╞═════╪═════╪═════╪═════╪═══╪═════╪═════╪═════╪═════╡\n",
       "└─────┴─────┴─────┴─────┴───┴─────┴─────┴─────┴─────┘"
      ]
     },
     "execution_count": 4,
     "metadata": {},
     "output_type": "execute_result"
    }
   ],
   "source": [
    "icd_df = (\n",
    "    raw_pheno_df\n",
    "    .head(300_000)\n",
    "    .select(pl.col(\"#FID\").alias(\"FID\"), \"IID\", pl.col(\"^b_[A-Z][0-9]{2}$\").name.map(lambda x: x.strip(\"b_\")))\n",
    ")\n",
    "\n",
    "icd_codes_to_keep = (\n",
    "    icd_df\n",
    "    .drop(\"FID\", \"IID\")\n",
    "    .select(pl.all().sub(2).sum())\n",
    "    .unpivot(value_name=\"n_cases\")\n",
    "    .filter(pl.col(\"n_cases\").ge(500))\n",
    "    [\"variable\"]\n",
    "    .to_list()\n",
    ")\n",
    "\n",
    "icd_df = (\n",
    "    icd_df\n",
    "    .select(\"FID\", \"IID\", *icd_codes_to_keep)\n",
    ")\n",
    "icd_df.write_csv(pheno_dir.joinpath(\"original.tsv\"), separator=\"\\t\")\n",
    "print(icd_df.shape)\n",
    "icd_df.head(0)"
   ]
  },
  {
   "cell_type": "raw",
   "id": "076ab45c-b3b3-4d66-90b4-6b1c068c7604",
   "metadata": {},
   "source": [
    "quant_df = (\n",
    "    raw_pheno_df\n",
    "    .head(100_000)\n",
    "    .select(pl.col(\"#FID\").alias(\"FID\"), \"IID\", pl.col(\"^q_.+$\"))\n",
    ")\n",
    "\n",
    "quant_codes_to_keep = (\n",
    "    quant_df\n",
    "    .drop(\"FID\", \"IID\")\n",
    "    .columns[:500]\n",
    ")\n",
    "\n",
    "quant_df = (\n",
    "    quant_df\n",
    "    .select(\"FID\", \"IID\", *quant_codes_to_keep)\n",
    ")\n",
    "quant_df.write_csv(pheno_dir.joinpath(\"original.tsv\"), separator=\"\\t\")\n",
    "print(quant_df.shape)\n",
    "quant_df.head(0)"
   ]
  },
  {
   "cell_type": "code",
   "execution_count": 5,
   "id": "2f15e994-3da1-49fa-b6f9-ec5e7e5e6ac7",
   "metadata": {},
   "outputs": [],
   "source": [
    "def anonymize(dataframe, k):\n",
    "    with tempfile.TemporaryDirectory() as tmp_dir:\n",
    "        tmp_dir = pathlib.Path(tmp_dir)\n",
    "        input_path = tmp_dir.joinpath(\"input.csv\")\n",
    "        dataframe.drop(\"FID\", \"IID\").write_csv(input_path)\n",
    "        output_path = tmp_dir.joinpath(\"output.csv\")\n",
    "        run_mdav(input_path, output_path, k=k)\n",
    "        df = pl.read_csv(output_path, infer_schema_length=10000)\n",
    "    return df\n",
    "\n",
    "def run_mdav(input_path, output_path, k):\n",
    "    env = os.environ.copy()\n",
    "    env[\"RAYON_NUM_THREADS\"] = \"110\"\n",
    "    command = f\"mdav -i {input_path.as_posix()} -o {output_path.as_posix()} -k {k} --just-centroids --precision 32\"\n",
    "    result = subprocess.run(shlex.split(command), env=env)\n",
    "    result.check_returncode()"
   ]
  },
  {
   "cell_type": "code",
   "execution_count": 6,
   "id": "dc5ef288-5023-4104-99c4-e5b90104d02f",
   "metadata": {},
   "outputs": [
    {
     "data": {
      "application/vnd.jupyter.widget-view+json": {
       "model_id": "99d10d283ccd45dba1164e314fa1a983",
       "version_major": 2,
       "version_minor": 0
      },
      "text/plain": [
       "  0%|          | 0/2 [00:00<?, ?it/s]"
      ]
     },
     "metadata": {},
     "output_type": "display_data"
    }
   ],
   "source": [
    "k_values = [50, 100]\n",
    "# 5, 10, 15, 20, \n",
    "\n",
    "for k in tqdm.tqdm(k_values):\n",
    "    anonymized_data = anonymize(icd_df, k=k)\n",
    "    anonymized_data.write_csv(pheno_dir.joinpath(f\"anon_{k:03}.tsv\"), separator=\"\\t\")"
   ]
  }
 ],
 "metadata": {
  "kernelspec": {
   "display_name": "Python 3 (ipykernel)",
   "language": "python",
   "name": "python3"
  },
  "language_info": {
   "codemirror_mode": {
    "name": "ipython",
    "version": 3
   },
   "file_extension": ".py",
   "mimetype": "text/x-python",
   "name": "python",
   "nbconvert_exporter": "python",
   "pygments_lexer": "ipython3",
   "version": "3.12.7"
  }
 },
 "nbformat": 4,
 "nbformat_minor": 5
}
