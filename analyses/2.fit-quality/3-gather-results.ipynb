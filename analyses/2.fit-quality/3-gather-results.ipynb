{
 "cells": [
  {
   "cell_type": "code",
   "execution_count": 1,
   "id": "96df1755-994e-4f75-9cd6-675953ca80a9",
   "metadata": {},
   "outputs": [],
   "source": [
    "import pathlib\n",
    "import shutil\n",
    "import re\n",
    "\n",
    "import polars as pl"
   ]
  },
  {
   "cell_type": "code",
   "execution_count": 2,
   "id": "40eb0e2f-9664-4e75-8916-d5b4b50914f2",
   "metadata": {},
   "outputs": [],
   "source": [
    "def r2(true, est):\n",
    "    rss = (pl.col(true) - pl.col(est)).pow(2).sum()\n",
    "    tss = (pl.col(true) - pl.col(true).mean()).pow(2).sum()\n",
    "    r2 = 1 - rss / tss\n",
    "    return r2.alias(\"rsq\")"
   ]
  },
  {
   "cell_type": "markdown",
   "id": "d452ab54-a157-4108-9c60-21f0a693ab42",
   "metadata": {},
   "source": [
    "# Gather GWAS"
   ]
  },
  {
   "cell_type": "code",
   "execution_count": 3,
   "id": "89f90116-f975-4c4c-9fa5-958cfe035cab",
   "metadata": {},
   "outputs": [],
   "source": [
    "shutil.rmtree(\"data/gathered_gwas\", ignore_errors=True)\n",
    "gathered_gwas_path = pathlib.Path(\"data/gathered_gwas/\")\n",
    "gathered_gwas_path.mkdir()"
   ]
  },
  {
   "cell_type": "code",
   "execution_count": 4,
   "id": "ad168242-079f-4b9d-acd3-f0fd6d0815f4",
   "metadata": {},
   "outputs": [],
   "source": [
    "def gather_gwas(paths, result_name):\n",
    "    (\n",
    "        pl.scan_csv(paths, separator=\"\\t\", include_file_paths=\"path\")\n",
    "        .select(\n",
    "            (\n",
    "                pl.col(\"path\")\n",
    "                .str.strip_prefix(\"data/gwas/\")\n",
    "                .str.strip_suffix(\".glm.linear.zst\")\n",
    "                .str.split(\"/\")\n",
    "            ),\n",
    "            pl.col(\"ID\").alias(\"variant_id\"),\n",
    "            pl.col(\"T_STAT\").pow(2).alias(\"chisq\")\n",
    "        )\n",
    "        .select(\n",
    "            pl.col(\"path\").list.first().alias(\"kind\"),\n",
    "            pl.col(\"path\").list.last().str.extract(\"^result.(.+)$\").alias(\"phenotype\"),\n",
    "            \"variant_id\",\n",
    "            \"chisq\",\n",
    "        )\n",
    "        .sink_parquet(gathered_gwas_path / result_name)\n",
    "    )"
   ]
  },
  {
   "cell_type": "code",
   "execution_count": 5,
   "id": "438c3af3-5d54-4db4-b39c-eb52a7c290fc",
   "metadata": {
    "scrolled": true
   },
   "outputs": [],
   "source": [
    "direct_paths = [p for p in pathlib.Path(\"data/gwas/\").glob(\"*/result.*.glm.linear.zst\") if \"approx\" not in p.parent.stem]\n",
    "gather_gwas(direct_paths, \"direct.parquet\")"
   ]
  },
  {
   "cell_type": "code",
   "execution_count": 6,
   "id": "c6ff3c76-ee9d-47d9-a2c5-fbc0d1e731c8",
   "metadata": {
    "scrolled": true
   },
   "outputs": [],
   "source": [
    "indirect_non_anon_paths = [p for p in pathlib.Path(\"data/gwas/\").glob(\"approx_[!anon]*/result.*.glm.linear.zst\")]\n",
    "gather_gwas(indirect_non_anon_paths, \"indirect_non_anon.parquet\")"
   ]
  },
  {
   "cell_type": "code",
   "execution_count": 7,
   "id": "3d11a66e-a0e2-45ef-908e-fa837112b4ba",
   "metadata": {},
   "outputs": [],
   "source": [
    "indirect_anon_paths = [p for p in pathlib.Path(\"data/gwas/\").glob(\"approx_anon_*/result.*.glm.linear.zst\")]\n",
    "gather_gwas(indirect_anon_paths, \"indirect_anon.parquet\")"
   ]
  },
  {
   "cell_type": "markdown",
   "id": "edad1b9b-b5d7-49e5-aedf-3c32a86086bb",
   "metadata": {},
   "source": [
    "# Format GWAS comparisons\n",
    "\n",
    "1. How well does a linear approximation work for real phenotypes?\n",
    "2. How much does anonymization hurt performance?\n",
    "3. Overall, how good are anonymized, linearized results?"
   ]
  },
  {
   "cell_type": "code",
   "execution_count": 8,
   "id": "3ef4b1ad-2ba9-4df4-8ce2-ffc974f16097",
   "metadata": {},
   "outputs": [],
   "source": [
    "shutil.rmtree(\"data/gwas_comparison\", ignore_errors=True)\n",
    "gwas_comparison_path = pathlib.Path(\"data/gwas_comparison/\")\n",
    "gwas_comparison_path.mkdir()"
   ]
  },
  {
   "cell_type": "code",
   "execution_count": 9,
   "id": "291ed112-03f3-43a9-a30c-25eabe9ec09e",
   "metadata": {},
   "outputs": [],
   "source": [
    "# How well does a linear approximation work for real phenotypes?\n",
    "# Direct vs indirect (non-anonymous)\n",
    "(\n",
    "    pl.scan_parquet(gathered_gwas_path / \"indirect_non_anon.parquet\")\n",
    "    .with_columns(pl.col(\"kind\").str.strip_prefix(\"approx_\"))\n",
    "    .join(\n",
    "        pl.scan_parquet(gathered_gwas_path / \"direct.parquet\"),\n",
    "        on=[\"kind\", \"phenotype\", \"variant_id\"], suffix=\"_true\"\n",
    "    )\n",
    "    .rename({\"chisq\": \"chisq_est\"})\n",
    "    .select(\"kind\", \"phenotype\", \"variant_id\", \"chisq_true\", \"chisq_est\")\n",
    "    .sink_parquet(gwas_comparison_path / \"direct_vs_indirect_non_anon.parquet\")\n",
    ")"
   ]
  },
  {
   "cell_type": "code",
   "execution_count": 10,
   "id": "d0baadac-9f6a-4530-99ae-6ec7298b5c8b",
   "metadata": {},
   "outputs": [],
   "source": [
    "# How much does anonymization hurt performance?\n",
    "# Indirect (non-anonymous) vs Indirect (anonymous)\n",
    "(\n",
    "    pl.scan_parquet(gathered_gwas_path / \"indirect_non_anon.parquet\")\n",
    "    .with_columns(pl.col(\"kind\").str.strip_prefix(\"approx_\"))\n",
    "    .join(\n",
    "        pl.scan_parquet(gathered_gwas_path / \"indirect_anon.parquet\")\n",
    "        .with_columns(\n",
    "            pl.col(\"kind\").str.extract(\"_([0-9]+)$\").alias(\"k\"),\n",
    "            pl.col(\"kind\").str.extract(\"^approx_anon_(.+)_[0-9]+$\")\n",
    "        ),\n",
    "        on=[\"kind\", \"phenotype\", \"variant_id\"], suffix=\"_true\"\n",
    "    )\n",
    "    .rename({\"chisq\": \"chisq_est\"})\n",
    "    .select(\"kind\", \"phenotype\", \"k\", \"variant_id\", \"chisq_true\", \"chisq_est\")\n",
    "    .sink_parquet(gwas_comparison_path / \"indirect_non_anon_vs_anon.parquet\")\n",
    ")"
   ]
  },
  {
   "cell_type": "code",
   "execution_count": 11,
   "id": "62a065bc-036b-41a5-91dc-26172420f27f",
   "metadata": {},
   "outputs": [],
   "source": [
    "# How good are linearized, anonymized results?\n",
    "# Direct vs Indirect (anonymous)\n",
    "(\n",
    "    pl.scan_parquet(gathered_gwas_path / \"direct.parquet\")\n",
    "    .join(\n",
    "        pl.scan_parquet(gathered_gwas_path / \"indirect_anon.parquet\")\n",
    "        .with_columns(\n",
    "            pl.col(\"kind\").str.extract(\"_([0-9]+)$\").alias(\"k\"),\n",
    "            pl.col(\"kind\").str.extract(\"^approx_anon_(.+)_[0-9]+$\")\n",
    "        ),\n",
    "        on=[\"kind\", \"phenotype\", \"variant_id\"], suffix=\"_true\"\n",
    "    )\n",
    "    .rename({\"chisq\": \"chisq_est\"})\n",
    "    .select(\"kind\", \"phenotype\", \"k\", \"variant_id\", \"chisq_true\", \"chisq_est\")\n",
    "    .sink_parquet(gwas_comparison_path / \"direct_vs_indirect_anon.parquet\")\n",
    ")"
   ]
  },
  {
   "cell_type": "markdown",
   "id": "9467d2dc-dd86-43ed-977f-41f4a89ac72c",
   "metadata": {},
   "source": [
    "# Summarize GWAS results"
   ]
  },
  {
   "cell_type": "code",
   "execution_count": 12,
   "id": "9ea2d4cd-676b-49ea-a3e0-faa95e712b29",
   "metadata": {},
   "outputs": [],
   "source": [
    "shutil.rmtree(\"data/gwas_summary\", ignore_errors=True)\n",
    "gwas_summary_path = pathlib.Path(\"data/gwas_summary/\")\n",
    "gwas_summary_path.mkdir()"
   ]
  },
  {
   "cell_type": "code",
   "execution_count": 13,
   "id": "9b60a87b-2d6a-4d41-b088-d0d479af7785",
   "metadata": {},
   "outputs": [],
   "source": [
    "def summarize_gwas(file_name, group_vars):\n",
    "    (\n",
    "        pl.scan_parquet(gwas_comparison_path / file_name)\n",
    "        .group_by(group_vars)\n",
    "        .agg(rsq=r2(\"chisq_true\", \"chisq_est\"))\n",
    "        .collect() # Sink not supported yet in standard engine?\n",
    "        .write_parquet(gwas_summary_path / file_name)\n",
    "    )"
   ]
  },
  {
   "cell_type": "code",
   "execution_count": 14,
   "id": "97ba383e-0398-47c0-bc45-e5466f7a0634",
   "metadata": {},
   "outputs": [],
   "source": [
    "summarize_gwas(\"direct_vs_indirect_non_anon.parquet\", [\"kind\", \"phenotype\"])\n",
    "summarize_gwas(\"indirect_non_anon_vs_anon.parquet\", [\"kind\", \"phenotype\", \"k\"])\n",
    "summarize_gwas(\"direct_vs_indirect_anon.parquet\", [\"kind\", \"phenotype\", \"k\"])"
   ]
  },
  {
   "cell_type": "markdown",
   "id": "06fb1f07-f023-4dc5-82ef-a00e8e0cbcbc",
   "metadata": {},
   "source": [
    "# Format phenotype comparisons"
   ]
  },
  {
   "cell_type": "code",
   "execution_count": 15,
   "id": "97fd1a1f-06c9-46e4-9311-489e7911bc08",
   "metadata": {},
   "outputs": [],
   "source": [
    "shutil.rmtree(\"data/pheno_comparison\", ignore_errors=True)\n",
    "pheno_comparison_path = pathlib.Path(\"data/pheno_comparison/\")\n",
    "pheno_comparison_path.mkdir()\n",
    "\n",
    "pheno_path = pathlib.Path(\"data/pheno\")"
   ]
  },
  {
   "cell_type": "code",
   "execution_count": 16,
   "id": "3aaf05ef-a865-4e02-9d87-e35728321b1c",
   "metadata": {},
   "outputs": [],
   "source": [
    "# Linear approximations\n",
    "# Direct vs indirect (non-anon)\n",
    "phenotype_methods = [\"boolean\", \"phecodes\"]\n",
    "\n",
    "direct_vs_indirect_non_anon_pheno_comparison_df = list()\n",
    "\n",
    "for phenotype_method in phenotype_methods:\n",
    "    direct_path = pheno_path.joinpath(phenotype_method).with_suffix(\".tsv\")\n",
    "    direct_df = (\n",
    "        pl.scan_csv(direct_path, separator=\"\\t\", null_values=[\"NA\"])\n",
    "        .unpivot(index=[\"#FID\", \"IID\"], variable_name=\"phenotype\", value_name=\"phenotype_true\")\n",
    "    )\n",
    "\n",
    "    indirect_path = pheno_path / f\"approx_{phenotype_method}.tsv\"\n",
    "    indirect_df = (\n",
    "        pl.scan_csv(indirect_path, separator=\"\\t\", null_values=[\"NA\"])\n",
    "        .unpivot(index=[\"#FID\", \"IID\"], variable_name=\"phenotype\", value_name=\"phenotype_est\")\n",
    "    )\n",
    "    this_comparison_df = (\n",
    "        direct_df\n",
    "        .join(indirect_df, on=[\"#FID\", \"IID\", \"phenotype\"])\n",
    "        .select(\n",
    "            pl.lit(phenotype_method).alias(\"kind\"), \n",
    "            \"phenotype\", \"#FID\", \"IID\", \"phenotype_true\", \"phenotype_est\",\n",
    "        )\n",
    "    )\n",
    "    direct_vs_indirect_non_anon_pheno_comparison_df.append(this_comparison_df)\n",
    "\n",
    "(\n",
    "    pl.concat(direct_vs_indirect_non_anon_pheno_comparison_df)\n",
    "    .sink_parquet(pheno_comparison_path / \"direct_vs_indirect_non_anon.parquet\")\n",
    ")"
   ]
  },
  {
   "cell_type": "code",
   "execution_count": 17,
   "id": "9c98ff99-8253-4940-b080-387e0ecdf4b9",
   "metadata": {},
   "outputs": [],
   "source": [
    "# Loss of performance due to anonymization\n",
    "# Indirect (non-anon) vs indirect (anon)\n",
    "phenotype_methods = [\"boolean\", \"phecodes\"]\n",
    "\n",
    "indirect_anon_vs_non_anon_pheno_comparison_df = list()\n",
    "\n",
    "for phenotype_method in phenotype_methods:\n",
    "    non_anon_path = pheno_path / f\"approx_{phenotype_method}.tsv\"\n",
    "    non_anon_df = (\n",
    "        pl.scan_csv(non_anon_path, separator=\"\\t\", null_values=[\"NA\"])\n",
    "        .unpivot(index=[\"#FID\", \"IID\"], variable_name=\"phenotype\", value_name=\"phenotype_true\")\n",
    "    )\n",
    "    \n",
    "    anon_paths = list(pheno_path.glob(f\"approx_anon_{phenotype_method}_*.tsv\"))\n",
    "    for anon_path in anon_paths:\n",
    "        k_match = re.search(\"[0-9]+$\", anon_path.stem)\n",
    "        if k_match is None:\n",
    "            raise ValueError(f\"Unable to parse {anon_path.stem}\")\n",
    "        k = k_match.group()\n",
    "            \n",
    "        anon_df = (\n",
    "            pl.scan_csv(anon_path, separator=\"\\t\", null_values=[\"NA\"])\n",
    "            .unpivot(index=[\"#FID\", \"IID\"], variable_name=\"phenotype\", value_name=\"phenotype_est\")\n",
    "        )\n",
    "        this_comparison_df = (\n",
    "            non_anon_df\n",
    "            .join(anon_df, on=[\"#FID\", \"IID\", \"phenotype\"])\n",
    "            .select(\n",
    "                pl.lit(phenotype_method).alias(\"kind\"), \n",
    "                \"phenotype\",\n",
    "                pl.lit(k).alias(\"k\"),\n",
    "                \"#FID\", \"IID\", \"phenotype_true\", \"phenotype_est\",\n",
    "            )\n",
    "        )\n",
    "        indirect_anon_vs_non_anon_pheno_comparison_df.append(this_comparison_df)\n",
    "\n",
    "(\n",
    "    pl.concat(indirect_anon_vs_non_anon_pheno_comparison_df)\n",
    "    .sink_parquet(pheno_comparison_path / \"indirect_non_anon_vs_anon.parquet\")\n",
    ")"
   ]
  },
  {
   "cell_type": "code",
   "execution_count": 18,
   "id": "68c887aa-a2c4-461f-9837-7a425807f631",
   "metadata": {},
   "outputs": [],
   "source": [
    "# Overall performance\n",
    "# Direct vs indirect (anon)\n",
    "phenotype_methods = [\"boolean\", \"phecodes\"]\n",
    "\n",
    "direct_vs_indirect_anon_pheno_comparison_df = list()\n",
    "\n",
    "for phenotype_method in phenotype_methods:\n",
    "    direct_path = pheno_path.joinpath(phenotype_method).with_suffix(\".tsv\")\n",
    "    direct_df = (\n",
    "        pl.scan_csv(direct_path, separator=\"\\t\", null_values=[\"NA\"])\n",
    "        .unpivot(index=[\"#FID\", \"IID\"], variable_name=\"phenotype\", value_name=\"phenotype_true\")\n",
    "    )\n",
    "    \n",
    "    indirect_paths = list(pheno_path.glob(f\"approx_anon_{phenotype_method}_*.tsv\"))\n",
    "    for indirect_path in indirect_paths:\n",
    "        k_match = re.search(\"[0-9]+$\", indirect_path.stem)\n",
    "        if k_match is None:\n",
    "            raise ValueError(f\"Unable to parse {indirect_path.stem}\")\n",
    "        k = k_match.group()\n",
    "            \n",
    "        indirect_df = (\n",
    "            pl.scan_csv(indirect_path, separator=\"\\t\", null_values=[\"NA\"])\n",
    "            .unpivot(index=[\"#FID\", \"IID\"], variable_name=\"phenotype\", value_name=\"phenotype_est\")\n",
    "        )\n",
    "        this_comparison_df = (\n",
    "            direct_df\n",
    "            .join(indirect_df, on=[\"#FID\", \"IID\", \"phenotype\"])\n",
    "            .select(\n",
    "                pl.lit(phenotype_method).alias(\"kind\"), \n",
    "                \"phenotype\",\n",
    "                pl.lit(k).alias(\"k\"),\n",
    "                \"#FID\", \"IID\", \"phenotype_true\", \"phenotype_est\",\n",
    "            )\n",
    "        )\n",
    "        direct_vs_indirect_anon_pheno_comparison_df.append(this_comparison_df)\n",
    "\n",
    "(\n",
    "    pl.concat(direct_vs_indirect_anon_pheno_comparison_df)\n",
    "    .sink_parquet(pheno_comparison_path / \"direct_vs_indirect_anon.parquet\")\n",
    ")"
   ]
  },
  {
   "cell_type": "markdown",
   "id": "49ad3c2a-e265-4bd0-be5d-232c2b8c5d66",
   "metadata": {},
   "source": [
    "# Summarize phenotype results"
   ]
  },
  {
   "cell_type": "code",
   "execution_count": 19,
   "id": "06647f48-e4f6-4230-a2c7-a232878d3412",
   "metadata": {},
   "outputs": [],
   "source": [
    "shutil.rmtree(\"data/pheno_summary\", ignore_errors=True)\n",
    "pheno_summary_path = pathlib.Path(\"data/pheno_summary/\")\n",
    "pheno_summary_path.mkdir()"
   ]
  },
  {
   "cell_type": "code",
   "execution_count": 20,
   "id": "9b825d43-350e-449f-9bae-364ff35bce14",
   "metadata": {},
   "outputs": [],
   "source": [
    "def summarize_pheno(file_name, group_vars):\n",
    "    (\n",
    "        pl.scan_parquet(pheno_comparison_path / file_name)\n",
    "        .group_by(group_vars)\n",
    "        .agg(rsq=r2(\"phenotype_true\", \"phenotype_est\"))\n",
    "        .collect() # Sink not supported yet in standard engine?\n",
    "        .write_parquet(pheno_summary_path / file_name)\n",
    "    )"
   ]
  },
  {
   "cell_type": "code",
   "execution_count": 21,
   "id": "9421009b-d54d-404d-8c73-9b6d883b0bd8",
   "metadata": {},
   "outputs": [],
   "source": [
    "summarize_pheno(\"direct_vs_indirect_non_anon.parquet\", [\"kind\", \"phenotype\"])\n",
    "summarize_pheno(\"indirect_non_anon_vs_anon.parquet\", [\"kind\", \"phenotype\", \"k\"])\n",
    "summarize_pheno(\"direct_vs_indirect_anon.parquet\", [\"kind\", \"phenotype\", \"k\"])"
   ]
  }
 ],
 "metadata": {
  "kernelspec": {
   "display_name": "Python 3 (ipykernel)",
   "language": "python",
   "name": "python3"
  },
  "language_info": {
   "codemirror_mode": {
    "name": "ipython",
    "version": 3
   },
   "file_extension": ".py",
   "mimetype": "text/x-python",
   "name": "python",
   "nbconvert_exporter": "python",
   "pygments_lexer": "ipython3",
   "version": "3.12.7"
  }
 },
 "nbformat": 4,
 "nbformat_minor": 5
}
